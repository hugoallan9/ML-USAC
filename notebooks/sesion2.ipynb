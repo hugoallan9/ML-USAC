{
 "cells": [
  {
   "cell_type": "markdown",
   "metadata": {
    "collapsed": true,
    "pycharm": {
     "name": "#%% md\n"
    }
   },
   "source": [
    "# Biblioteca pandas\n",
    "La biblioteca pandas permite la manipulación de tablas de datos. Tiene dos estructuras fundamentales:\n",
    "- DataFrame.\n",
    "- Series.\n",
    "\n",
    "La documentación oficial puede se consultada en https://pandas.pydata.org/\n",
    "Para importar la biblioteca usualmente se utiliza:\n",
    "\n",
    "import pandas as pd."
   ]
  },
  {
   "cell_type": "code",
   "execution_count": 1,
   "outputs": [],
   "source": [],
   "metadata": {
    "collapsed": false,
    "pycharm": {
     "name": "#%%\n"
    }
   }
  },
  {
   "cell_type": "code",
   "source": [
    "#Importando pandas con el alias pd\n",
    "import pandas as pd"
   ],
   "metadata": {
    "collapsed": false,
    "pycharm": {
     "name": "#%%\n"
    }
   },
   "execution_count": 2,
   "outputs": []
  },
  {
   "cell_type": "markdown",
   "source": [
    "## DataFrame\n",
    "Un DataFrame es básicamente una tabla. Contiene un arreglo de valores individuales (entradas), se puede pensar en ella\n",
    "como una matriz."
   ],
   "metadata": {
    "collapsed": false
   }
  },
  {
   "cell_type": "code",
   "execution_count": 3,
   "outputs": [
    {
     "data": {
      "text/plain": "   Sí  No\n0   2  50\n1   3  15",
      "text/html": "<div>\n<style scoped>\n    .dataframe tbody tr th:only-of-type {\n        vertical-align: middle;\n    }\n\n    .dataframe tbody tr th {\n        vertical-align: top;\n    }\n\n    .dataframe thead th {\n        text-align: right;\n    }\n</style>\n<table border=\"1\" class=\"dataframe\">\n  <thead>\n    <tr style=\"text-align: right;\">\n      <th></th>\n      <th>Sí</th>\n      <th>No</th>\n    </tr>\n  </thead>\n  <tbody>\n    <tr>\n      <th>0</th>\n      <td>2</td>\n      <td>50</td>\n    </tr>\n    <tr>\n      <th>1</th>\n      <td>3</td>\n      <td>15</td>\n    </tr>\n  </tbody>\n</table>\n</div>"
     },
     "execution_count": 3,
     "metadata": {},
     "output_type": "execute_result"
    }
   ],
   "source": [
    "pd.DataFrame({'Sí':[2,3], 'No':[50,15]} )"
   ],
   "metadata": {
    "collapsed": false,
    "pycharm": {
     "name": "#%%\n"
    }
   }
  },
  {
   "cell_type": "code",
   "execution_count": 4,
   "outputs": [
    {
     "data": {
      "text/plain": "       Rodrigo     Eva\n0    Barcelona  Napoli\n1  Real Madrid     PSG",
      "text/html": "<div>\n<style scoped>\n    .dataframe tbody tr th:only-of-type {\n        vertical-align: middle;\n    }\n\n    .dataframe tbody tr th {\n        vertical-align: top;\n    }\n\n    .dataframe thead th {\n        text-align: right;\n    }\n</style>\n<table border=\"1\" class=\"dataframe\">\n  <thead>\n    <tr style=\"text-align: right;\">\n      <th></th>\n      <th>Rodrigo</th>\n      <th>Eva</th>\n    </tr>\n  </thead>\n  <tbody>\n    <tr>\n      <th>0</th>\n      <td>Barcelona</td>\n      <td>Napoli</td>\n    </tr>\n    <tr>\n      <th>1</th>\n      <td>Real Madrid</td>\n      <td>PSG</td>\n    </tr>\n  </tbody>\n</table>\n</div>"
     },
     "execution_count": 4,
     "metadata": {},
     "output_type": "execute_result"
    }
   ],
   "source": [
    "pd.DataFrame({'Rodrigo':['Barcelona', 'Real Madrid'], 'Eva':['Napoli', 'PSG']})"
   ],
   "metadata": {
    "collapsed": false,
    "pycharm": {
     "name": "#%%\n"
    }
   }
  },
  {
   "cell_type": "code",
   "execution_count": 5,
   "outputs": [
    {
     "data": {
      "text/plain": "                Rodrigo     Eva\nQuiniela 1    Barcelona  Napoli\nQuiniela 2  Real Madrid     PSG",
      "text/html": "<div>\n<style scoped>\n    .dataframe tbody tr th:only-of-type {\n        vertical-align: middle;\n    }\n\n    .dataframe tbody tr th {\n        vertical-align: top;\n    }\n\n    .dataframe thead th {\n        text-align: right;\n    }\n</style>\n<table border=\"1\" class=\"dataframe\">\n  <thead>\n    <tr style=\"text-align: right;\">\n      <th></th>\n      <th>Rodrigo</th>\n      <th>Eva</th>\n    </tr>\n  </thead>\n  <tbody>\n    <tr>\n      <th>Quiniela 1</th>\n      <td>Barcelona</td>\n      <td>Napoli</td>\n    </tr>\n    <tr>\n      <th>Quiniela 2</th>\n      <td>Real Madrid</td>\n      <td>PSG</td>\n    </tr>\n  </tbody>\n</table>\n</div>"
     },
     "execution_count": 5,
     "metadata": {},
     "output_type": "execute_result"
    }
   ],
   "source": [
    "pd.DataFrame({'Rodrigo':['Barcelona', 'Real Madrid'], 'Eva':['Napoli', 'PSG']}, index=['Quiniela 1', 'Quiniela 2'])"
   ],
   "metadata": {
    "collapsed": false,
    "pycharm": {
     "name": "#%%\n"
    }
   }
  },
  {
   "cell_type": "markdown",
   "source": [
    "## Series\n",
    "Se puede pensar en una serie como en una lista."
   ],
   "metadata": {
    "collapsed": false
   }
  },
  {
   "cell_type": "code",
   "execution_count": 6,
   "outputs": [
    {
     "data": {
      "text/plain": "0    1\n1    2\n2    3\n3    4\n4    5\ndtype: int64"
     },
     "execution_count": 6,
     "metadata": {},
     "output_type": "execute_result"
    }
   ],
   "source": [
    "pd.Series([1, 2, 3, 4, 5])"
   ],
   "metadata": {
    "collapsed": false,
    "pycharm": {
     "name": "#%%\n"
    }
   }
  },
  {
   "cell_type": "markdown",
   "source": [
    "Una series es, en esencia, una sola columna de un DataFrame."
   ],
   "metadata": {
    "collapsed": false
   }
  },
  {
   "cell_type": "code",
   "source": [
    "pd.Series([30, 35, 40], index=['2015', '2016', '2017'], name='Año')"
   ],
   "metadata": {
    "collapsed": false,
    "pycharm": {
     "name": "#%%\n"
    }
   },
   "execution_count": 7,
   "outputs": [
    {
     "data": {
      "text/plain": "2015    30\n2016    35\n2017    40\nName: Año, dtype: int64"
     },
     "execution_count": 7,
     "metadata": {},
     "output_type": "execute_result"
    }
   ]
  },
  {
   "cell_type": "markdown",
   "source": [
    "## Leer archivos de datos\n",
    "Hacemos uso de las funciones de Pandas:\n",
    "- read_csv\n",
    "- read_excel\n",
    "- read_spss"
   ],
   "metadata": {
    "collapsed": false,
    "pycharm": {
     "name": "#%% md\n"
    }
   }
  },
  {
   "cell_type": "markdown",
   "source": [
    "### Textos planos\n",
    "Ir a la página datos.minfin.gob.gt y descargar base de datos en CSV.\n",
    "(https://datos.minfin.gob.gt/dataset/00ac0df6-be04-4cd7-b1c6-cd8af7c3d73e/resource/03b9e66d-dd68-4a41-802c-6c664ef6d634/download/ejecucion-presupuesto-egresos-gobierno-central.csv.txt).\n",
    "Luego leeremos esa base de datos."
   ],
   "metadata": {
    "collapsed": false,
    "pycharm": {
     "name": "#%% md\n"
    }
   }
  },
  {
   "cell_type": "code",
   "execution_count": 8,
   "outputs": [
    {
     "name": "stderr",
     "output_type": "stream",
     "text": [
      "/tmp/ipykernel_245231/1008096186.py:1: DtypeWarning: Columns (15) have mixed types. Specify dtype option on import or set low_memory=False.\n",
      "  ejecucion = pd.read_csv(\"/home/hugog/GitHub/ML-USAC/data/ejecucion-presupuesto-egresos-gobierno-central.csv\",\n"
     ]
    }
   ],
   "source": [
    "ejecucion = pd.read_csv(\"/home/hugog/GitHub/ML-USAC/data/ejecucion-presupuesto-egresos-gobierno-central.csv\",\n",
    "                        sep=\"\\t\",\n",
    "                        encoding = \"ISO-8859-1\")"
   ],
   "metadata": {
    "collapsed": false,
    "pycharm": {
     "name": "#%%\n"
    }
   }
  },
  {
   "cell_type": "code",
   "execution_count": 9,
   "outputs": [
    {
     "data": {
      "text/plain": "   Id  Ejercicio  CodigoEntidad                              Entidad  \\\n0   1       2021       11130004  MINISTERIO DE RELACIONES EXTERIORES   \n1   2       2021       11130004  MINISTERIO DE RELACIONES EXTERIORES   \n2   3       2021       11130004  MINISTERIO DE RELACIONES EXTERIORES   \n3   4       2021       11130004  MINISTERIO DE RELACIONES EXTERIORES   \n4   5       2021       11130004  MINISTERIO DE RELACIONES EXTERIORES   \n5   6       2021       11130004  MINISTERIO DE RELACIONES EXTERIORES   \n6   7       2021       11130004  MINISTERIO DE RELACIONES EXTERIORES   \n7   8       2021       11130004  MINISTERIO DE RELACIONES EXTERIORES   \n8   9       2021       11130004  MINISTERIO DE RELACIONES EXTERIORES   \n9  10       2021       11130004  MINISTERIO DE RELACIONES EXTERIORES   \n\n   CodigoUnidadEjecutora                      UnidadEjecutora  CodigoPrograma  \\\n0                      0  MINISTERIO DE RELACIONES EXTERIORES              11   \n1                      0  MINISTERIO DE RELACIONES EXTERIORES              11   \n2                      0  MINISTERIO DE RELACIONES EXTERIORES              11   \n3                      0  MINISTERIO DE RELACIONES EXTERIORES              11   \n4                      0  MINISTERIO DE RELACIONES EXTERIORES              11   \n5                      0  MINISTERIO DE RELACIONES EXTERIORES              11   \n6                      0  MINISTERIO DE RELACIONES EXTERIORES              11   \n7                      0  MINISTERIO DE RELACIONES EXTERIORES              11   \n8                      0  MINISTERIO DE RELACIONES EXTERIORES              11   \n9                      0  MINISTERIO DE RELACIONES EXTERIORES              11   \n\n                                         Programa  CodigoSubProg  \\\n0  SERVICIOS CONSULARES Y DE ATENCIÓN AL MIGRANTE              0   \n1  SERVICIOS CONSULARES Y DE ATENCIÓN AL MIGRANTE              0   \n2  SERVICIOS CONSULARES Y DE ATENCIÓN AL MIGRANTE              0   \n3  SERVICIOS CONSULARES Y DE ATENCIÓN AL MIGRANTE              0   \n4  SERVICIOS CONSULARES Y DE ATENCIÓN AL MIGRANTE              0   \n5  SERVICIOS CONSULARES Y DE ATENCIÓN AL MIGRANTE              0   \n6  SERVICIOS CONSULARES Y DE ATENCIÓN AL MIGRANTE              0   \n7  SERVICIOS CONSULARES Y DE ATENCIÓN AL MIGRANTE              0   \n8  SERVICIOS CONSULARES Y DE ATENCIÓN AL MIGRANTE              0   \n9  SERVICIOS CONSULARES Y DE ATENCIÓN AL MIGRANTE              0   \n\n       SubPrograma  ...  CodigoOrganismo      Organismo  Correlativo  \\\n0  SIN SUBPROGRAMA  ...                0  SIN ORGANISMO            0   \n1  SIN SUBPROGRAMA  ...                0  SIN ORGANISMO            0   \n2  SIN SUBPROGRAMA  ...                0  SIN ORGANISMO            0   \n3  SIN SUBPROGRAMA  ...                0  SIN ORGANISMO            0   \n4  SIN SUBPROGRAMA  ...                0  SIN ORGANISMO            0   \n5  SIN SUBPROGRAMA  ...                0  SIN ORGANISMO            0   \n6  SIN SUBPROGRAMA  ...                0  SIN ORGANISMO            0   \n7  SIN SUBPROGRAMA  ...                0  SIN ORGANISMO            0   \n8  SIN SUBPROGRAMA  ...                0  SIN ORGANISMO            0   \n9  SIN SUBPROGRAMA  ...                0  SIN ORGANISMO            0   \n\n     Asignado  Modificado     Vigente  PreComprometido Comprometido  \\\n0     26400.0      4763.0     31163.0              0.0     29355.96   \n1   1810188.0   1098257.0   2908445.0              0.0   2907482.86   \n2    445537.0     89200.0    534737.0              0.0    529575.37   \n3    445537.0    133846.0    579383.0              0.0    541093.82   \n4  37092048.0  15370539.0  52462587.0              0.0  52398710.32   \n5     29760.0     18330.0     48090.0              0.0     47574.31   \n6     18000.0     31582.0     49582.0              0.0     49281.21   \n7   3488496.0     34569.0   3523065.0              0.0   3522582.98   \n8    396000.0      2312.0    398312.0              0.0    397411.97   \n9    484200.0     49392.0    533592.0              0.0    533096.10   \n\n     Devengado       Pagado  \n0     29355.96     29355.96  \n1   2907482.86   2907482.86  \n2    529575.37    529575.37  \n3    541093.82    541093.82  \n4  52398710.32  52398710.32  \n5     47574.31     47574.31  \n6     49281.21     49281.21  \n7   3522582.98   3522582.98  \n8    397411.97    397411.97  \n9    533096.10    533096.10  \n\n[10 rows x 42 columns]",
      "text/html": "<div>\n<style scoped>\n    .dataframe tbody tr th:only-of-type {\n        vertical-align: middle;\n    }\n\n    .dataframe tbody tr th {\n        vertical-align: top;\n    }\n\n    .dataframe thead th {\n        text-align: right;\n    }\n</style>\n<table border=\"1\" class=\"dataframe\">\n  <thead>\n    <tr style=\"text-align: right;\">\n      <th></th>\n      <th>Id</th>\n      <th>Ejercicio</th>\n      <th>CodigoEntidad</th>\n      <th>Entidad</th>\n      <th>CodigoUnidadEjecutora</th>\n      <th>UnidadEjecutora</th>\n      <th>CodigoPrograma</th>\n      <th>Programa</th>\n      <th>CodigoSubProg</th>\n      <th>SubPrograma</th>\n      <th>...</th>\n      <th>CodigoOrganismo</th>\n      <th>Organismo</th>\n      <th>Correlativo</th>\n      <th>Asignado</th>\n      <th>Modificado</th>\n      <th>Vigente</th>\n      <th>PreComprometido</th>\n      <th>Comprometido</th>\n      <th>Devengado</th>\n      <th>Pagado</th>\n    </tr>\n  </thead>\n  <tbody>\n    <tr>\n      <th>0</th>\n      <td>1</td>\n      <td>2021</td>\n      <td>11130004</td>\n      <td>MINISTERIO DE RELACIONES EXTERIORES</td>\n      <td>0</td>\n      <td>MINISTERIO DE RELACIONES EXTERIORES</td>\n      <td>11</td>\n      <td>SERVICIOS CONSULARES Y DE ATENCIÓN AL MIGRANTE</td>\n      <td>0</td>\n      <td>SIN SUBPROGRAMA</td>\n      <td>...</td>\n      <td>0</td>\n      <td>SIN ORGANISMO</td>\n      <td>0</td>\n      <td>26400.0</td>\n      <td>4763.0</td>\n      <td>31163.0</td>\n      <td>0.0</td>\n      <td>29355.96</td>\n      <td>29355.96</td>\n      <td>29355.96</td>\n    </tr>\n    <tr>\n      <th>1</th>\n      <td>2</td>\n      <td>2021</td>\n      <td>11130004</td>\n      <td>MINISTERIO DE RELACIONES EXTERIORES</td>\n      <td>0</td>\n      <td>MINISTERIO DE RELACIONES EXTERIORES</td>\n      <td>11</td>\n      <td>SERVICIOS CONSULARES Y DE ATENCIÓN AL MIGRANTE</td>\n      <td>0</td>\n      <td>SIN SUBPROGRAMA</td>\n      <td>...</td>\n      <td>0</td>\n      <td>SIN ORGANISMO</td>\n      <td>0</td>\n      <td>1810188.0</td>\n      <td>1098257.0</td>\n      <td>2908445.0</td>\n      <td>0.0</td>\n      <td>2907482.86</td>\n      <td>2907482.86</td>\n      <td>2907482.86</td>\n    </tr>\n    <tr>\n      <th>2</th>\n      <td>3</td>\n      <td>2021</td>\n      <td>11130004</td>\n      <td>MINISTERIO DE RELACIONES EXTERIORES</td>\n      <td>0</td>\n      <td>MINISTERIO DE RELACIONES EXTERIORES</td>\n      <td>11</td>\n      <td>SERVICIOS CONSULARES Y DE ATENCIÓN AL MIGRANTE</td>\n      <td>0</td>\n      <td>SIN SUBPROGRAMA</td>\n      <td>...</td>\n      <td>0</td>\n      <td>SIN ORGANISMO</td>\n      <td>0</td>\n      <td>445537.0</td>\n      <td>89200.0</td>\n      <td>534737.0</td>\n      <td>0.0</td>\n      <td>529575.37</td>\n      <td>529575.37</td>\n      <td>529575.37</td>\n    </tr>\n    <tr>\n      <th>3</th>\n      <td>4</td>\n      <td>2021</td>\n      <td>11130004</td>\n      <td>MINISTERIO DE RELACIONES EXTERIORES</td>\n      <td>0</td>\n      <td>MINISTERIO DE RELACIONES EXTERIORES</td>\n      <td>11</td>\n      <td>SERVICIOS CONSULARES Y DE ATENCIÓN AL MIGRANTE</td>\n      <td>0</td>\n      <td>SIN SUBPROGRAMA</td>\n      <td>...</td>\n      <td>0</td>\n      <td>SIN ORGANISMO</td>\n      <td>0</td>\n      <td>445537.0</td>\n      <td>133846.0</td>\n      <td>579383.0</td>\n      <td>0.0</td>\n      <td>541093.82</td>\n      <td>541093.82</td>\n      <td>541093.82</td>\n    </tr>\n    <tr>\n      <th>4</th>\n      <td>5</td>\n      <td>2021</td>\n      <td>11130004</td>\n      <td>MINISTERIO DE RELACIONES EXTERIORES</td>\n      <td>0</td>\n      <td>MINISTERIO DE RELACIONES EXTERIORES</td>\n      <td>11</td>\n      <td>SERVICIOS CONSULARES Y DE ATENCIÓN AL MIGRANTE</td>\n      <td>0</td>\n      <td>SIN SUBPROGRAMA</td>\n      <td>...</td>\n      <td>0</td>\n      <td>SIN ORGANISMO</td>\n      <td>0</td>\n      <td>37092048.0</td>\n      <td>15370539.0</td>\n      <td>52462587.0</td>\n      <td>0.0</td>\n      <td>52398710.32</td>\n      <td>52398710.32</td>\n      <td>52398710.32</td>\n    </tr>\n    <tr>\n      <th>5</th>\n      <td>6</td>\n      <td>2021</td>\n      <td>11130004</td>\n      <td>MINISTERIO DE RELACIONES EXTERIORES</td>\n      <td>0</td>\n      <td>MINISTERIO DE RELACIONES EXTERIORES</td>\n      <td>11</td>\n      <td>SERVICIOS CONSULARES Y DE ATENCIÓN AL MIGRANTE</td>\n      <td>0</td>\n      <td>SIN SUBPROGRAMA</td>\n      <td>...</td>\n      <td>0</td>\n      <td>SIN ORGANISMO</td>\n      <td>0</td>\n      <td>29760.0</td>\n      <td>18330.0</td>\n      <td>48090.0</td>\n      <td>0.0</td>\n      <td>47574.31</td>\n      <td>47574.31</td>\n      <td>47574.31</td>\n    </tr>\n    <tr>\n      <th>6</th>\n      <td>7</td>\n      <td>2021</td>\n      <td>11130004</td>\n      <td>MINISTERIO DE RELACIONES EXTERIORES</td>\n      <td>0</td>\n      <td>MINISTERIO DE RELACIONES EXTERIORES</td>\n      <td>11</td>\n      <td>SERVICIOS CONSULARES Y DE ATENCIÓN AL MIGRANTE</td>\n      <td>0</td>\n      <td>SIN SUBPROGRAMA</td>\n      <td>...</td>\n      <td>0</td>\n      <td>SIN ORGANISMO</td>\n      <td>0</td>\n      <td>18000.0</td>\n      <td>31582.0</td>\n      <td>49582.0</td>\n      <td>0.0</td>\n      <td>49281.21</td>\n      <td>49281.21</td>\n      <td>49281.21</td>\n    </tr>\n    <tr>\n      <th>7</th>\n      <td>8</td>\n      <td>2021</td>\n      <td>11130004</td>\n      <td>MINISTERIO DE RELACIONES EXTERIORES</td>\n      <td>0</td>\n      <td>MINISTERIO DE RELACIONES EXTERIORES</td>\n      <td>11</td>\n      <td>SERVICIOS CONSULARES Y DE ATENCIÓN AL MIGRANTE</td>\n      <td>0</td>\n      <td>SIN SUBPROGRAMA</td>\n      <td>...</td>\n      <td>0</td>\n      <td>SIN ORGANISMO</td>\n      <td>0</td>\n      <td>3488496.0</td>\n      <td>34569.0</td>\n      <td>3523065.0</td>\n      <td>0.0</td>\n      <td>3522582.98</td>\n      <td>3522582.98</td>\n      <td>3522582.98</td>\n    </tr>\n    <tr>\n      <th>8</th>\n      <td>9</td>\n      <td>2021</td>\n      <td>11130004</td>\n      <td>MINISTERIO DE RELACIONES EXTERIORES</td>\n      <td>0</td>\n      <td>MINISTERIO DE RELACIONES EXTERIORES</td>\n      <td>11</td>\n      <td>SERVICIOS CONSULARES Y DE ATENCIÓN AL MIGRANTE</td>\n      <td>0</td>\n      <td>SIN SUBPROGRAMA</td>\n      <td>...</td>\n      <td>0</td>\n      <td>SIN ORGANISMO</td>\n      <td>0</td>\n      <td>396000.0</td>\n      <td>2312.0</td>\n      <td>398312.0</td>\n      <td>0.0</td>\n      <td>397411.97</td>\n      <td>397411.97</td>\n      <td>397411.97</td>\n    </tr>\n    <tr>\n      <th>9</th>\n      <td>10</td>\n      <td>2021</td>\n      <td>11130004</td>\n      <td>MINISTERIO DE RELACIONES EXTERIORES</td>\n      <td>0</td>\n      <td>MINISTERIO DE RELACIONES EXTERIORES</td>\n      <td>11</td>\n      <td>SERVICIOS CONSULARES Y DE ATENCIÓN AL MIGRANTE</td>\n      <td>0</td>\n      <td>SIN SUBPROGRAMA</td>\n      <td>...</td>\n      <td>0</td>\n      <td>SIN ORGANISMO</td>\n      <td>0</td>\n      <td>484200.0</td>\n      <td>49392.0</td>\n      <td>533592.0</td>\n      <td>0.0</td>\n      <td>533096.10</td>\n      <td>533096.10</td>\n      <td>533096.10</td>\n    </tr>\n  </tbody>\n</table>\n<p>10 rows × 42 columns</p>\n</div>"
     },
     "execution_count": 9,
     "metadata": {},
     "output_type": "execute_result"
    }
   ],
   "source": [
    "ejecucion.head(10)"
   ],
   "metadata": {
    "collapsed": false,
    "pycharm": {
     "name": "#%%\n"
    }
   }
  },
  {
   "cell_type": "markdown",
   "source": [
    "### Archivos excel\n",
    "Para leer archivos excel se suele utilizar la funcion read_excel. En algunos casos es necesario primer instalar\n",
    "la biblioteca pyxlsx."
   ],
   "metadata": {
    "collapsed": false,
    "pycharm": {
     "name": "#%% md\n"
    }
   }
  },
  {
   "cell_type": "code",
   "execution_count": 10,
   "outputs": [
    {
     "data": {
      "text/plain": "            Id  Ejercicio  CodigoEntidad  \\\n0            1       2021       11130004   \n1            2       2021       11130004   \n2            3       2021       11130004   \n3            4       2021       11130004   \n4            5       2021       11130004   \n...        ...        ...            ...   \n161224  161225       2021       11130012   \n161225  161226       2021       11130012   \n161226  161227       2021       11130012   \n161227  161228       2021       11130012   \n161228  161229       2021       11130012   \n\n                                                  Entidad  \\\n0                     MINISTERIO DE RELACIONES EXTERIORES   \n1                     MINISTERIO DE RELACIONES EXTERIORES   \n2                     MINISTERIO DE RELACIONES EXTERIORES   \n3                     MINISTERIO DE RELACIONES EXTERIORES   \n4                     MINISTERIO DE RELACIONES EXTERIORES   \n...                                                   ...   \n161224  MINISTERIO DE AGRICULTURA, GANADERÍA Y ALIMENT...   \n161225  MINISTERIO DE AGRICULTURA, GANADERÍA Y ALIMENT...   \n161226  MINISTERIO DE AGRICULTURA, GANADERÍA Y ALIMENT...   \n161227  MINISTERIO DE AGRICULTURA, GANADERÍA Y ALIMENT...   \n161228  MINISTERIO DE AGRICULTURA, GANADERÍA Y ALIMENT...   \n\n        CodigoUnidadEjecutora                      UnidadEjecutora  \\\n0                           0  MINISTERIO DE RELACIONES EXTERIORES   \n1                           0  MINISTERIO DE RELACIONES EXTERIORES   \n2                           0  MINISTERIO DE RELACIONES EXTERIORES   \n3                           0  MINISTERIO DE RELACIONES EXTERIORES   \n4                           0  MINISTERIO DE RELACIONES EXTERIORES   \n...                       ...                                  ...   \n161224                    208   VICEMINISTERIO DE ASUNTOS DE PETÉN   \n161225                    208   VICEMINISTERIO DE ASUNTOS DE PETÉN   \n161226                    208   VICEMINISTERIO DE ASUNTOS DE PETÉN   \n161227                    208   VICEMINISTERIO DE ASUNTOS DE PETÉN   \n161228                    208   VICEMINISTERIO DE ASUNTOS DE PETÉN   \n\n        CodigoPrograma                                           Programa  \\\n0                   11     SERVICIOS CONSULARES Y DE ATENCIÓN AL MIGRANTE   \n1                   11     SERVICIOS CONSULARES Y DE ATENCIÓN AL MIGRANTE   \n2                   11     SERVICIOS CONSULARES Y DE ATENCIÓN AL MIGRANTE   \n3                   11     SERVICIOS CONSULARES Y DE ATENCIÓN AL MIGRANTE   \n4                   11     SERVICIOS CONSULARES Y DE ATENCIÓN AL MIGRANTE   \n...                ...                                                ...   \n161224              13  APOYO A LA PRODUCTIVIDAD Y COMPETITIVIDAD AGRO...   \n161225              13  APOYO A LA PRODUCTIVIDAD Y COMPETITIVIDAD AGRO...   \n161226              13  APOYO A LA PRODUCTIVIDAD Y COMPETITIVIDAD AGRO...   \n161227              13  APOYO A LA PRODUCTIVIDAD Y COMPETITIVIDAD AGRO...   \n161228              13  APOYO A LA PRODUCTIVIDAD Y COMPETITIVIDAD AGRO...   \n\n        CodigoSubProg      SubPrograma  ...  CodigoOrganismo      Organismo  \\\n0                   0  SIN SUBPROGRAMA  ...                0  SIN ORGANISMO   \n1                   0  SIN SUBPROGRAMA  ...                0  SIN ORGANISMO   \n2                   0  SIN SUBPROGRAMA  ...                0  SIN ORGANISMO   \n3                   0  SIN SUBPROGRAMA  ...                0  SIN ORGANISMO   \n4                   0  SIN SUBPROGRAMA  ...                0  SIN ORGANISMO   \n...               ...              ...  ...              ...            ...   \n161224              0  SIN SUBPROGRAMA  ...                0  SIN ORGANISMO   \n161225              0  SIN SUBPROGRAMA  ...                0  SIN ORGANISMO   \n161226              0  SIN SUBPROGRAMA  ...                0  SIN ORGANISMO   \n161227              0  SIN SUBPROGRAMA  ...                0  SIN ORGANISMO   \n161228              0  SIN SUBPROGRAMA  ...                0  SIN ORGANISMO   \n\n        Correlativo  Asignado  Modificado     Vigente  PreComprometido  \\\n0                 0     26400      4763.0     31163.0              0.0   \n1                 0   1810188   1098257.0   2908445.0              0.0   \n2                 0    445537     89200.0    534737.0              0.0   \n3                 0    445537    133846.0    579383.0              0.0   \n4                 0  37092048  15370539.0  52462587.0              0.0   \n...             ...       ...         ...         ...              ...   \n161224            0         0      1152.0      1152.0              0.0   \n161225            0         0     76555.0     76555.0              0.0   \n161226            0         0    117800.0    117800.0              0.0   \n161227            0         0     36000.0     36000.0              0.0   \n161228            0         0     24000.0     24000.0              0.0   \n\n       Comprometido    Devengado       Pagado  \n0          29355.96     29355.96     29355.96  \n1        2907482.86   2907482.86   2907482.86  \n2         529575.37    529575.37    529575.37  \n3         541093.82    541093.82    541093.82  \n4       52398710.32  52398710.32  52398710.32  \n...             ...          ...          ...  \n161224      1152.00      1152.00      1152.00  \n161225     76555.00     76555.00     76555.00  \n161226    111662.00    111662.00    111662.00  \n161227     36000.00     36000.00     36000.00  \n161228     23900.00     23900.00     23900.00  \n\n[161229 rows x 42 columns]",
      "text/html": "<div>\n<style scoped>\n    .dataframe tbody tr th:only-of-type {\n        vertical-align: middle;\n    }\n\n    .dataframe tbody tr th {\n        vertical-align: top;\n    }\n\n    .dataframe thead th {\n        text-align: right;\n    }\n</style>\n<table border=\"1\" class=\"dataframe\">\n  <thead>\n    <tr style=\"text-align: right;\">\n      <th></th>\n      <th>Id</th>\n      <th>Ejercicio</th>\n      <th>CodigoEntidad</th>\n      <th>Entidad</th>\n      <th>CodigoUnidadEjecutora</th>\n      <th>UnidadEjecutora</th>\n      <th>CodigoPrograma</th>\n      <th>Programa</th>\n      <th>CodigoSubProg</th>\n      <th>SubPrograma</th>\n      <th>...</th>\n      <th>CodigoOrganismo</th>\n      <th>Organismo</th>\n      <th>Correlativo</th>\n      <th>Asignado</th>\n      <th>Modificado</th>\n      <th>Vigente</th>\n      <th>PreComprometido</th>\n      <th>Comprometido</th>\n      <th>Devengado</th>\n      <th>Pagado</th>\n    </tr>\n  </thead>\n  <tbody>\n    <tr>\n      <th>0</th>\n      <td>1</td>\n      <td>2021</td>\n      <td>11130004</td>\n      <td>MINISTERIO DE RELACIONES EXTERIORES</td>\n      <td>0</td>\n      <td>MINISTERIO DE RELACIONES EXTERIORES</td>\n      <td>11</td>\n      <td>SERVICIOS CONSULARES Y DE ATENCIÓN AL MIGRANTE</td>\n      <td>0</td>\n      <td>SIN SUBPROGRAMA</td>\n      <td>...</td>\n      <td>0</td>\n      <td>SIN ORGANISMO</td>\n      <td>0</td>\n      <td>26400</td>\n      <td>4763.0</td>\n      <td>31163.0</td>\n      <td>0.0</td>\n      <td>29355.96</td>\n      <td>29355.96</td>\n      <td>29355.96</td>\n    </tr>\n    <tr>\n      <th>1</th>\n      <td>2</td>\n      <td>2021</td>\n      <td>11130004</td>\n      <td>MINISTERIO DE RELACIONES EXTERIORES</td>\n      <td>0</td>\n      <td>MINISTERIO DE RELACIONES EXTERIORES</td>\n      <td>11</td>\n      <td>SERVICIOS CONSULARES Y DE ATENCIÓN AL MIGRANTE</td>\n      <td>0</td>\n      <td>SIN SUBPROGRAMA</td>\n      <td>...</td>\n      <td>0</td>\n      <td>SIN ORGANISMO</td>\n      <td>0</td>\n      <td>1810188</td>\n      <td>1098257.0</td>\n      <td>2908445.0</td>\n      <td>0.0</td>\n      <td>2907482.86</td>\n      <td>2907482.86</td>\n      <td>2907482.86</td>\n    </tr>\n    <tr>\n      <th>2</th>\n      <td>3</td>\n      <td>2021</td>\n      <td>11130004</td>\n      <td>MINISTERIO DE RELACIONES EXTERIORES</td>\n      <td>0</td>\n      <td>MINISTERIO DE RELACIONES EXTERIORES</td>\n      <td>11</td>\n      <td>SERVICIOS CONSULARES Y DE ATENCIÓN AL MIGRANTE</td>\n      <td>0</td>\n      <td>SIN SUBPROGRAMA</td>\n      <td>...</td>\n      <td>0</td>\n      <td>SIN ORGANISMO</td>\n      <td>0</td>\n      <td>445537</td>\n      <td>89200.0</td>\n      <td>534737.0</td>\n      <td>0.0</td>\n      <td>529575.37</td>\n      <td>529575.37</td>\n      <td>529575.37</td>\n    </tr>\n    <tr>\n      <th>3</th>\n      <td>4</td>\n      <td>2021</td>\n      <td>11130004</td>\n      <td>MINISTERIO DE RELACIONES EXTERIORES</td>\n      <td>0</td>\n      <td>MINISTERIO DE RELACIONES EXTERIORES</td>\n      <td>11</td>\n      <td>SERVICIOS CONSULARES Y DE ATENCIÓN AL MIGRANTE</td>\n      <td>0</td>\n      <td>SIN SUBPROGRAMA</td>\n      <td>...</td>\n      <td>0</td>\n      <td>SIN ORGANISMO</td>\n      <td>0</td>\n      <td>445537</td>\n      <td>133846.0</td>\n      <td>579383.0</td>\n      <td>0.0</td>\n      <td>541093.82</td>\n      <td>541093.82</td>\n      <td>541093.82</td>\n    </tr>\n    <tr>\n      <th>4</th>\n      <td>5</td>\n      <td>2021</td>\n      <td>11130004</td>\n      <td>MINISTERIO DE RELACIONES EXTERIORES</td>\n      <td>0</td>\n      <td>MINISTERIO DE RELACIONES EXTERIORES</td>\n      <td>11</td>\n      <td>SERVICIOS CONSULARES Y DE ATENCIÓN AL MIGRANTE</td>\n      <td>0</td>\n      <td>SIN SUBPROGRAMA</td>\n      <td>...</td>\n      <td>0</td>\n      <td>SIN ORGANISMO</td>\n      <td>0</td>\n      <td>37092048</td>\n      <td>15370539.0</td>\n      <td>52462587.0</td>\n      <td>0.0</td>\n      <td>52398710.32</td>\n      <td>52398710.32</td>\n      <td>52398710.32</td>\n    </tr>\n    <tr>\n      <th>...</th>\n      <td>...</td>\n      <td>...</td>\n      <td>...</td>\n      <td>...</td>\n      <td>...</td>\n      <td>...</td>\n      <td>...</td>\n      <td>...</td>\n      <td>...</td>\n      <td>...</td>\n      <td>...</td>\n      <td>...</td>\n      <td>...</td>\n      <td>...</td>\n      <td>...</td>\n      <td>...</td>\n      <td>...</td>\n      <td>...</td>\n      <td>...</td>\n      <td>...</td>\n      <td>...</td>\n    </tr>\n    <tr>\n      <th>161224</th>\n      <td>161225</td>\n      <td>2021</td>\n      <td>11130012</td>\n      <td>MINISTERIO DE AGRICULTURA, GANADERÍA Y ALIMENT...</td>\n      <td>208</td>\n      <td>VICEMINISTERIO DE ASUNTOS DE PETÉN</td>\n      <td>13</td>\n      <td>APOYO A LA PRODUCTIVIDAD Y COMPETITIVIDAD AGRO...</td>\n      <td>0</td>\n      <td>SIN SUBPROGRAMA</td>\n      <td>...</td>\n      <td>0</td>\n      <td>SIN ORGANISMO</td>\n      <td>0</td>\n      <td>0</td>\n      <td>1152.0</td>\n      <td>1152.0</td>\n      <td>0.0</td>\n      <td>1152.00</td>\n      <td>1152.00</td>\n      <td>1152.00</td>\n    </tr>\n    <tr>\n      <th>161225</th>\n      <td>161226</td>\n      <td>2021</td>\n      <td>11130012</td>\n      <td>MINISTERIO DE AGRICULTURA, GANADERÍA Y ALIMENT...</td>\n      <td>208</td>\n      <td>VICEMINISTERIO DE ASUNTOS DE PETÉN</td>\n      <td>13</td>\n      <td>APOYO A LA PRODUCTIVIDAD Y COMPETITIVIDAD AGRO...</td>\n      <td>0</td>\n      <td>SIN SUBPROGRAMA</td>\n      <td>...</td>\n      <td>0</td>\n      <td>SIN ORGANISMO</td>\n      <td>0</td>\n      <td>0</td>\n      <td>76555.0</td>\n      <td>76555.0</td>\n      <td>0.0</td>\n      <td>76555.00</td>\n      <td>76555.00</td>\n      <td>76555.00</td>\n    </tr>\n    <tr>\n      <th>161226</th>\n      <td>161227</td>\n      <td>2021</td>\n      <td>11130012</td>\n      <td>MINISTERIO DE AGRICULTURA, GANADERÍA Y ALIMENT...</td>\n      <td>208</td>\n      <td>VICEMINISTERIO DE ASUNTOS DE PETÉN</td>\n      <td>13</td>\n      <td>APOYO A LA PRODUCTIVIDAD Y COMPETITIVIDAD AGRO...</td>\n      <td>0</td>\n      <td>SIN SUBPROGRAMA</td>\n      <td>...</td>\n      <td>0</td>\n      <td>SIN ORGANISMO</td>\n      <td>0</td>\n      <td>0</td>\n      <td>117800.0</td>\n      <td>117800.0</td>\n      <td>0.0</td>\n      <td>111662.00</td>\n      <td>111662.00</td>\n      <td>111662.00</td>\n    </tr>\n    <tr>\n      <th>161227</th>\n      <td>161228</td>\n      <td>2021</td>\n      <td>11130012</td>\n      <td>MINISTERIO DE AGRICULTURA, GANADERÍA Y ALIMENT...</td>\n      <td>208</td>\n      <td>VICEMINISTERIO DE ASUNTOS DE PETÉN</td>\n      <td>13</td>\n      <td>APOYO A LA PRODUCTIVIDAD Y COMPETITIVIDAD AGRO...</td>\n      <td>0</td>\n      <td>SIN SUBPROGRAMA</td>\n      <td>...</td>\n      <td>0</td>\n      <td>SIN ORGANISMO</td>\n      <td>0</td>\n      <td>0</td>\n      <td>36000.0</td>\n      <td>36000.0</td>\n      <td>0.0</td>\n      <td>36000.00</td>\n      <td>36000.00</td>\n      <td>36000.00</td>\n    </tr>\n    <tr>\n      <th>161228</th>\n      <td>161229</td>\n      <td>2021</td>\n      <td>11130012</td>\n      <td>MINISTERIO DE AGRICULTURA, GANADERÍA Y ALIMENT...</td>\n      <td>208</td>\n      <td>VICEMINISTERIO DE ASUNTOS DE PETÉN</td>\n      <td>13</td>\n      <td>APOYO A LA PRODUCTIVIDAD Y COMPETITIVIDAD AGRO...</td>\n      <td>0</td>\n      <td>SIN SUBPROGRAMA</td>\n      <td>...</td>\n      <td>0</td>\n      <td>SIN ORGANISMO</td>\n      <td>0</td>\n      <td>0</td>\n      <td>24000.0</td>\n      <td>24000.0</td>\n      <td>0.0</td>\n      <td>23900.00</td>\n      <td>23900.00</td>\n      <td>23900.00</td>\n    </tr>\n  </tbody>\n</table>\n<p>161229 rows × 42 columns</p>\n</div>"
     },
     "execution_count": 10,
     "metadata": {},
     "output_type": "execute_result"
    }
   ],
   "source": [
    "pd.read_excel(\"/home/hugog/GitHub/ML-USAC/data/ejecucion-presupuesto-egresos-gobierno-central.xlsx\")"
   ],
   "metadata": {
    "collapsed": false,
    "pycharm": {
     "name": "#%%\n"
    }
   }
  },
  {
   "cell_type": "markdown",
   "source": [
    "### Archivos sav\n",
    "Para leer archivos sav (típicos de SPSS), podemos utilizar la función read_spss. Es necesario instalar la biblioteca\n",
    "pyreadstat."
   ],
   "metadata": {
    "collapsed": false,
    "pycharm": {
     "name": "#%% md\n"
    }
   }
  },
  {
   "cell_type": "code",
   "execution_count": 11,
   "outputs": [],
   "source": [
    "enei = pd.read_spss(\"/home/hugog/GitHub/ML-USAC/data/enei_personas_2021.sav\")"
   ],
   "metadata": {
    "collapsed": false,
    "pycharm": {
     "name": "#%%\n"
    }
   }
  },
  {
   "cell_type": "code",
   "execution_count": 12,
   "outputs": [
    {
     "data": {
      "text/plain": "                DOMINIO    AREA   UPM  FACTOR  NUM_HOGAR   ID   PPA02  PPA03  \\\n0  Urbano Metropolitano  Urbana  26.0   295.0        1.0  1.0   Mujer   43.0   \n1  Urbano Metropolitano  Urbana  26.0   295.0        1.0  2.0  Hombre   20.0   \n2  Urbano Metropolitano  Urbana  26.0   295.0        1.0  3.0   Mujer   16.0   \n3  Urbano Metropolitano  Urbana  26.0   295.0        1.0  4.0   Mujer   14.0   \n4  Urbano Metropolitano  Urbana  26.0   295.0        2.0  1.0  Hombre   69.0   \n\n                PPA05   PPA06  ... P05A21A P05A22A P05A22B  \\\n0  Jefe(a) del hogar?  Ladino  ...     NaN      No     NaN   \n1            Hijo(a)?  Ladino  ...     NaN     NaN     NaN   \n2            Hijo(a)?  Ladino  ...     NaN     NaN     NaN   \n3            Hijo(a)?  Ladino  ...     NaN     NaN     NaN   \n4  Jefe(a) del hogar?  Ladino  ...     NaN      Si  1500.0   \n\n                             PET                              PEA  \\\n0  Población en edad de trabajar  Población económicamente activa   \n1  Población en edad de trabajar  Población económicamente activa   \n2  Población en edad de trabajar                              NaN   \n3  Población en edad de trabajar                              NaN   \n4  Población en edad de trabajar                              NaN   \n\n            OCUPADOS DESOCUPADOS SUBVISIBLES  \\\n0  Población ocupada         NaN         NaN   \n1  Población ocupada         NaN         NaN   \n2                NaN         NaN         NaN   \n3                NaN         NaN         NaN   \n4                NaN         NaN         NaN   \n\n                           INACTIVOS FORMAL_INFORMAL  \n0                                NaN          Formal  \n1                                NaN          Formal  \n2  Población económicamente inactiva             NaN  \n3  Población económicamente inactiva             NaN  \n4  Población económicamente inactiva             NaN  \n\n[5 rows x 261 columns]",
      "text/html": "<div>\n<style scoped>\n    .dataframe tbody tr th:only-of-type {\n        vertical-align: middle;\n    }\n\n    .dataframe tbody tr th {\n        vertical-align: top;\n    }\n\n    .dataframe thead th {\n        text-align: right;\n    }\n</style>\n<table border=\"1\" class=\"dataframe\">\n  <thead>\n    <tr style=\"text-align: right;\">\n      <th></th>\n      <th>DOMINIO</th>\n      <th>AREA</th>\n      <th>UPM</th>\n      <th>FACTOR</th>\n      <th>NUM_HOGAR</th>\n      <th>ID</th>\n      <th>PPA02</th>\n      <th>PPA03</th>\n      <th>PPA05</th>\n      <th>PPA06</th>\n      <th>...</th>\n      <th>P05A21A</th>\n      <th>P05A22A</th>\n      <th>P05A22B</th>\n      <th>PET</th>\n      <th>PEA</th>\n      <th>OCUPADOS</th>\n      <th>DESOCUPADOS</th>\n      <th>SUBVISIBLES</th>\n      <th>INACTIVOS</th>\n      <th>FORMAL_INFORMAL</th>\n    </tr>\n  </thead>\n  <tbody>\n    <tr>\n      <th>0</th>\n      <td>Urbano Metropolitano</td>\n      <td>Urbana</td>\n      <td>26.0</td>\n      <td>295.0</td>\n      <td>1.0</td>\n      <td>1.0</td>\n      <td>Mujer</td>\n      <td>43.0</td>\n      <td>Jefe(a) del hogar?</td>\n      <td>Ladino</td>\n      <td>...</td>\n      <td>NaN</td>\n      <td>No</td>\n      <td>NaN</td>\n      <td>Población en edad de trabajar</td>\n      <td>Población económicamente activa</td>\n      <td>Población ocupada</td>\n      <td>NaN</td>\n      <td>NaN</td>\n      <td>NaN</td>\n      <td>Formal</td>\n    </tr>\n    <tr>\n      <th>1</th>\n      <td>Urbano Metropolitano</td>\n      <td>Urbana</td>\n      <td>26.0</td>\n      <td>295.0</td>\n      <td>1.0</td>\n      <td>2.0</td>\n      <td>Hombre</td>\n      <td>20.0</td>\n      <td>Hijo(a)?</td>\n      <td>Ladino</td>\n      <td>...</td>\n      <td>NaN</td>\n      <td>NaN</td>\n      <td>NaN</td>\n      <td>Población en edad de trabajar</td>\n      <td>Población económicamente activa</td>\n      <td>Población ocupada</td>\n      <td>NaN</td>\n      <td>NaN</td>\n      <td>NaN</td>\n      <td>Formal</td>\n    </tr>\n    <tr>\n      <th>2</th>\n      <td>Urbano Metropolitano</td>\n      <td>Urbana</td>\n      <td>26.0</td>\n      <td>295.0</td>\n      <td>1.0</td>\n      <td>3.0</td>\n      <td>Mujer</td>\n      <td>16.0</td>\n      <td>Hijo(a)?</td>\n      <td>Ladino</td>\n      <td>...</td>\n      <td>NaN</td>\n      <td>NaN</td>\n      <td>NaN</td>\n      <td>Población en edad de trabajar</td>\n      <td>NaN</td>\n      <td>NaN</td>\n      <td>NaN</td>\n      <td>NaN</td>\n      <td>Población económicamente inactiva</td>\n      <td>NaN</td>\n    </tr>\n    <tr>\n      <th>3</th>\n      <td>Urbano Metropolitano</td>\n      <td>Urbana</td>\n      <td>26.0</td>\n      <td>295.0</td>\n      <td>1.0</td>\n      <td>4.0</td>\n      <td>Mujer</td>\n      <td>14.0</td>\n      <td>Hijo(a)?</td>\n      <td>Ladino</td>\n      <td>...</td>\n      <td>NaN</td>\n      <td>NaN</td>\n      <td>NaN</td>\n      <td>Población en edad de trabajar</td>\n      <td>NaN</td>\n      <td>NaN</td>\n      <td>NaN</td>\n      <td>NaN</td>\n      <td>Población económicamente inactiva</td>\n      <td>NaN</td>\n    </tr>\n    <tr>\n      <th>4</th>\n      <td>Urbano Metropolitano</td>\n      <td>Urbana</td>\n      <td>26.0</td>\n      <td>295.0</td>\n      <td>2.0</td>\n      <td>1.0</td>\n      <td>Hombre</td>\n      <td>69.0</td>\n      <td>Jefe(a) del hogar?</td>\n      <td>Ladino</td>\n      <td>...</td>\n      <td>NaN</td>\n      <td>Si</td>\n      <td>1500.0</td>\n      <td>Población en edad de trabajar</td>\n      <td>NaN</td>\n      <td>NaN</td>\n      <td>NaN</td>\n      <td>NaN</td>\n      <td>Población económicamente inactiva</td>\n      <td>NaN</td>\n    </tr>\n  </tbody>\n</table>\n<p>5 rows × 261 columns</p>\n</div>"
     },
     "execution_count": 12,
     "metadata": {},
     "output_type": "execute_result"
    }
   ],
   "source": [
    "enei.head()"
   ],
   "metadata": {
    "collapsed": false,
    "pycharm": {
     "name": "#%%\n"
    }
   }
  },
  {
   "cell_type": "code",
   "execution_count": 13,
   "outputs": [
    {
     "data": {
      "text/plain": "                UPM        FACTOR     NUM_HOGAR            ID         PPA03  \\\ncount  24319.000000  24319.000000  24319.000000  24319.000000  24319.000000   \nmean   11115.308812    707.559069   2982.570213      3.105350     29.185822   \nstd     7569.354356    445.717748   1649.510854      2.014403     20.647820   \nmin       26.000000     64.000000      1.000000      1.000000      0.000000   \n25%     4337.000000    375.000000   1573.000000      2.000000     12.000000   \n50%    10274.000000    535.000000   3059.000000      3.000000     25.000000   \n75%    17634.000000    998.000000   4395.000000      4.000000     43.000000   \nmax    25671.000000   2806.000000   5791.000000     22.000000     97.000000   \n\n             PPA10B        PPA11      P03A04B       P03A05B       P03D02B  \\\ncount  12474.000000  9939.000000  5504.000000  17740.000000  14224.000000   \nmean       2.169954     2.306570     3.212028      4.037542      1.012795   \nstd        1.306715     2.599265     1.644465      1.715339      0.118485   \nmin        1.000000     0.000000     1.000000      1.000000      1.000000   \n25%        2.000000     0.000000     2.000000      3.000000      1.000000   \n50%        2.000000     2.000000     3.000000      4.000000      1.000000   \n75%        2.000000     3.000000     5.000000      6.000000      1.000000   \nmax       19.000000    18.000000     6.000000      6.000000      4.000000   \n\n       ...        P05A12B        P05A13B        P05A14B  P05A15A  P05A15B  \\\ncount  ...      62.000000       4.000000     636.000000  21140.0      0.0   \nmean   ...   45808.790323   45862.500000    2626.533019      2.0      NaN   \nstd    ...  114283.601131   89426.369853   20262.246138      0.0      NaN   \nmin    ...      75.000000     450.000000      30.000000      2.0      NaN   \n25%    ...    1500.000000    1237.500000     300.000000      2.0      NaN   \n50%    ...   12500.000000    1500.000000     700.000000      2.0      NaN   \n75%    ...   40000.000000   46125.000000    1400.000000      2.0      NaN   \nmax    ...  750000.000000  180000.000000  480000.000000      2.0      NaN   \n\n            P05A16B       P05A18B       P05A19B       P05A20B      P05A22B  \ncount     65.000000    737.000000    737.000000    737.000000  1766.000000  \nmean    4675.076923   1536.781547   1437.489824   1578.028494   213.088335  \nstd     7069.357539   2396.695239   2258.447998   2374.471869   333.937607  \nmin       60.000000      0.000000      0.000000      0.000000     2.000000  \n25%      450.000000    400.000000    350.000000    500.000000   100.000000  \n50%     2200.000000   1000.000000    860.000000   1000.000000   125.000000  \n75%     6000.000000   1875.000000   1800.000000   2000.000000   200.000000  \nmax    45000.000000  30000.000000  28000.000000  25100.000000  7000.000000  \n\n[8 rows x 85 columns]",
      "text/html": "<div>\n<style scoped>\n    .dataframe tbody tr th:only-of-type {\n        vertical-align: middle;\n    }\n\n    .dataframe tbody tr th {\n        vertical-align: top;\n    }\n\n    .dataframe thead th {\n        text-align: right;\n    }\n</style>\n<table border=\"1\" class=\"dataframe\">\n  <thead>\n    <tr style=\"text-align: right;\">\n      <th></th>\n      <th>UPM</th>\n      <th>FACTOR</th>\n      <th>NUM_HOGAR</th>\n      <th>ID</th>\n      <th>PPA03</th>\n      <th>PPA10B</th>\n      <th>PPA11</th>\n      <th>P03A04B</th>\n      <th>P03A05B</th>\n      <th>P03D02B</th>\n      <th>...</th>\n      <th>P05A12B</th>\n      <th>P05A13B</th>\n      <th>P05A14B</th>\n      <th>P05A15A</th>\n      <th>P05A15B</th>\n      <th>P05A16B</th>\n      <th>P05A18B</th>\n      <th>P05A19B</th>\n      <th>P05A20B</th>\n      <th>P05A22B</th>\n    </tr>\n  </thead>\n  <tbody>\n    <tr>\n      <th>count</th>\n      <td>24319.000000</td>\n      <td>24319.000000</td>\n      <td>24319.000000</td>\n      <td>24319.000000</td>\n      <td>24319.000000</td>\n      <td>12474.000000</td>\n      <td>9939.000000</td>\n      <td>5504.000000</td>\n      <td>17740.000000</td>\n      <td>14224.000000</td>\n      <td>...</td>\n      <td>62.000000</td>\n      <td>4.000000</td>\n      <td>636.000000</td>\n      <td>21140.0</td>\n      <td>0.0</td>\n      <td>65.000000</td>\n      <td>737.000000</td>\n      <td>737.000000</td>\n      <td>737.000000</td>\n      <td>1766.000000</td>\n    </tr>\n    <tr>\n      <th>mean</th>\n      <td>11115.308812</td>\n      <td>707.559069</td>\n      <td>2982.570213</td>\n      <td>3.105350</td>\n      <td>29.185822</td>\n      <td>2.169954</td>\n      <td>2.306570</td>\n      <td>3.212028</td>\n      <td>4.037542</td>\n      <td>1.012795</td>\n      <td>...</td>\n      <td>45808.790323</td>\n      <td>45862.500000</td>\n      <td>2626.533019</td>\n      <td>2.0</td>\n      <td>NaN</td>\n      <td>4675.076923</td>\n      <td>1536.781547</td>\n      <td>1437.489824</td>\n      <td>1578.028494</td>\n      <td>213.088335</td>\n    </tr>\n    <tr>\n      <th>std</th>\n      <td>7569.354356</td>\n      <td>445.717748</td>\n      <td>1649.510854</td>\n      <td>2.014403</td>\n      <td>20.647820</td>\n      <td>1.306715</td>\n      <td>2.599265</td>\n      <td>1.644465</td>\n      <td>1.715339</td>\n      <td>0.118485</td>\n      <td>...</td>\n      <td>114283.601131</td>\n      <td>89426.369853</td>\n      <td>20262.246138</td>\n      <td>0.0</td>\n      <td>NaN</td>\n      <td>7069.357539</td>\n      <td>2396.695239</td>\n      <td>2258.447998</td>\n      <td>2374.471869</td>\n      <td>333.937607</td>\n    </tr>\n    <tr>\n      <th>min</th>\n      <td>26.000000</td>\n      <td>64.000000</td>\n      <td>1.000000</td>\n      <td>1.000000</td>\n      <td>0.000000</td>\n      <td>1.000000</td>\n      <td>0.000000</td>\n      <td>1.000000</td>\n      <td>1.000000</td>\n      <td>1.000000</td>\n      <td>...</td>\n      <td>75.000000</td>\n      <td>450.000000</td>\n      <td>30.000000</td>\n      <td>2.0</td>\n      <td>NaN</td>\n      <td>60.000000</td>\n      <td>0.000000</td>\n      <td>0.000000</td>\n      <td>0.000000</td>\n      <td>2.000000</td>\n    </tr>\n    <tr>\n      <th>25%</th>\n      <td>4337.000000</td>\n      <td>375.000000</td>\n      <td>1573.000000</td>\n      <td>2.000000</td>\n      <td>12.000000</td>\n      <td>2.000000</td>\n      <td>0.000000</td>\n      <td>2.000000</td>\n      <td>3.000000</td>\n      <td>1.000000</td>\n      <td>...</td>\n      <td>1500.000000</td>\n      <td>1237.500000</td>\n      <td>300.000000</td>\n      <td>2.0</td>\n      <td>NaN</td>\n      <td>450.000000</td>\n      <td>400.000000</td>\n      <td>350.000000</td>\n      <td>500.000000</td>\n      <td>100.000000</td>\n    </tr>\n    <tr>\n      <th>50%</th>\n      <td>10274.000000</td>\n      <td>535.000000</td>\n      <td>3059.000000</td>\n      <td>3.000000</td>\n      <td>25.000000</td>\n      <td>2.000000</td>\n      <td>2.000000</td>\n      <td>3.000000</td>\n      <td>4.000000</td>\n      <td>1.000000</td>\n      <td>...</td>\n      <td>12500.000000</td>\n      <td>1500.000000</td>\n      <td>700.000000</td>\n      <td>2.0</td>\n      <td>NaN</td>\n      <td>2200.000000</td>\n      <td>1000.000000</td>\n      <td>860.000000</td>\n      <td>1000.000000</td>\n      <td>125.000000</td>\n    </tr>\n    <tr>\n      <th>75%</th>\n      <td>17634.000000</td>\n      <td>998.000000</td>\n      <td>4395.000000</td>\n      <td>4.000000</td>\n      <td>43.000000</td>\n      <td>2.000000</td>\n      <td>3.000000</td>\n      <td>5.000000</td>\n      <td>6.000000</td>\n      <td>1.000000</td>\n      <td>...</td>\n      <td>40000.000000</td>\n      <td>46125.000000</td>\n      <td>1400.000000</td>\n      <td>2.0</td>\n      <td>NaN</td>\n      <td>6000.000000</td>\n      <td>1875.000000</td>\n      <td>1800.000000</td>\n      <td>2000.000000</td>\n      <td>200.000000</td>\n    </tr>\n    <tr>\n      <th>max</th>\n      <td>25671.000000</td>\n      <td>2806.000000</td>\n      <td>5791.000000</td>\n      <td>22.000000</td>\n      <td>97.000000</td>\n      <td>19.000000</td>\n      <td>18.000000</td>\n      <td>6.000000</td>\n      <td>6.000000</td>\n      <td>4.000000</td>\n      <td>...</td>\n      <td>750000.000000</td>\n      <td>180000.000000</td>\n      <td>480000.000000</td>\n      <td>2.0</td>\n      <td>NaN</td>\n      <td>45000.000000</td>\n      <td>30000.000000</td>\n      <td>28000.000000</td>\n      <td>25100.000000</td>\n      <td>7000.000000</td>\n    </tr>\n  </tbody>\n</table>\n<p>8 rows × 85 columns</p>\n</div>"
     },
     "execution_count": 13,
     "metadata": {},
     "output_type": "execute_result"
    }
   ],
   "source": [
    "enei.describe()"
   ],
   "metadata": {
    "collapsed": false,
    "pycharm": {
     "name": "#%%\n"
    }
   }
  },
  {
   "cell_type": "markdown",
   "source": [
    "### Funciones de resumen\n",
    "De la base de datos de ENEI, tomamos la variable de \"Otros ingresos\" y la utilizamos para análisis."
   ],
   "metadata": {
    "collapsed": false,
    "pycharm": {
     "name": "#%% md\n"
    }
   }
  },
  {
   "cell_type": "code",
   "execution_count": 44,
   "outputs": [
    {
     "data": {
      "text/plain": "count       65.000000\nmean      4675.076923\nstd       7069.357539\nmin         60.000000\n25%        450.000000\n50%       2200.000000\n75%       6000.000000\nmax      45000.000000\nName: P05A16B, dtype: float64"
     },
     "execution_count": 44,
     "metadata": {},
     "output_type": "execute_result"
    }
   ],
   "source": [
    "#enei[\"P05A16A\"].describe()\n",
    "enei[\"P05A16B\"].describe()"
   ],
   "metadata": {
    "collapsed": false,
    "pycharm": {
     "name": "#%%\n"
    }
   }
  },
  {
   "cell_type": "code",
   "execution_count": 45,
   "outputs": [
    {
     "data": {
      "text/plain": "4675.076923076923"
     },
     "execution_count": 45,
     "metadata": {},
     "output_type": "execute_result"
    }
   ],
   "source": [
    "#Calcular solo la media\n",
    "enei.P05A16B.mean()"
   ],
   "metadata": {
    "collapsed": false,
    "pycharm": {
     "name": "#%%\n"
    }
   }
  },
  {
   "cell_type": "code",
   "execution_count": 19,
   "outputs": [
    {
     "data": {
      "text/plain": "['No', NaN, 'Si']\nCategories (2, object): ['No', 'Si']"
     },
     "execution_count": 19,
     "metadata": {},
     "output_type": "execute_result"
    }
   ],
   "source": [
    "#Ver los niveles de una variable categórica\n",
    "enei[\"P05A16A\"].unique()"
   ],
   "metadata": {
    "collapsed": false,
    "pycharm": {
     "name": "#%%\n"
    }
   }
  },
  {
   "cell_type": "code",
   "execution_count": 20,
   "outputs": [
    {
     "data": {
      "text/plain": "No    21075\nSi       65\nName: P05A16A, dtype: int64"
     },
     "execution_count": 20,
     "metadata": {},
     "output_type": "execute_result"
    }
   ],
   "source": [
    "#Para las frecuencias\n",
    "enei[\"P05A16A\"].value_counts()"
   ],
   "metadata": {
    "collapsed": false,
    "pycharm": {
     "name": "#%%\n"
    }
   }
  },
  {
   "cell_type": "markdown",
   "source": [
    "### Maps\n",
    "Los mapas es un término tomado de las matemáticas. Es igual que las funciones que toma valores y los \"mapea\"."
   ],
   "metadata": {
    "collapsed": false,
    "pycharm": {
     "name": "#%% md\n"
    }
   }
  },
  {
   "cell_type": "code",
   "execution_count": 24,
   "outputs": [
    {
     "data": {
      "text/plain": "0       NaN\n1       NaN\n2       NaN\n3       NaN\n4       NaN\n         ..\n24314   NaN\n24315   NaN\n24316   NaN\n24317   NaN\n24318   NaN\nName: P05A16B, Length: 24319, dtype: float64"
     },
     "execution_count": 24,
     "metadata": {},
     "output_type": "execute_result"
    }
   ],
   "source": [
    "promedio_otros_ingresos = enei[\"P05A16B\"].mean()\n",
    "enei[\"P05A16B\"].map(lambda i: i - promedio_otros_ingresos)"
   ],
   "metadata": {
    "collapsed": false,
    "pycharm": {
     "name": "#%%\n"
    }
   }
  },
  {
   "cell_type": "code",
   "execution_count": 30,
   "outputs": [
    {
     "data": {
      "text/plain": "                    DOMINIO    AREA      UPM  FACTOR  NUM_HOGAR   ID   PPA02  \\\n0      Urbano Metropolitano  Urbana     26.0   295.0        1.0  1.0   Mujer   \n1      Urbano Metropolitano  Urbana     26.0   295.0        1.0  2.0  Hombre   \n2      Urbano Metropolitano  Urbana     26.0   295.0        1.0  3.0   Mujer   \n3      Urbano Metropolitano  Urbana     26.0   295.0        1.0  4.0   Mujer   \n4      Urbano Metropolitano  Urbana     26.0   295.0        2.0  1.0  Hombre   \n...                     ...     ...      ...     ...        ...  ...     ...   \n24314        Rural Nacional   Rural  25671.0   797.0     5790.0  3.0   Mujer   \n24315        Rural Nacional   Rural  25671.0   797.0     5790.0  4.0  Hombre   \n24316        Rural Nacional   Rural  25671.0   797.0     5791.0  1.0  Hombre   \n24317        Rural Nacional   Rural  25671.0   797.0     5791.0  2.0   Mujer   \n24318        Rural Nacional   Rural  25671.0   797.0     5791.0  3.0  Hombre   \n\n       PPA03                      PPA05   PPA06  ... P05A21A P05A22A P05A22B  \\\n0       43.0         Jefe(a) del hogar?  Ladino  ...     NaN      No     NaN   \n1       20.0                   Hijo(a)?  Ladino  ...     NaN     NaN     NaN   \n2       16.0                   Hijo(a)?  Ladino  ...     NaN     NaN     NaN   \n3       14.0                   Hijo(a)?  Ladino  ...     NaN     NaN     NaN   \n4       69.0         Jefe(a) del hogar?  Ladino  ...     NaN      Si  1500.0   \n...      ...                        ...     ...  ...     ...     ...     ...   \n24314   18.0                   Hijo(a)?  Ladino  ...     NaN     NaN     NaN   \n24315   11.0                   Hijo(a)?  Ladino  ...     NaN     NaN     NaN   \n24316   85.0         Jefe(a) del hogar?  Ladino  ...     NaN      Si   200.0   \n24317   58.0  Esposo(a) o compañero(a)?  Ladino  ...     NaN     NaN     NaN   \n24318   23.0                   Hijo(a)?  Ladino  ...     NaN     NaN     NaN   \n\n                                 PET                              PEA  \\\n0      Población en edad de trabajar  Población económicamente activa   \n1      Población en edad de trabajar  Población económicamente activa   \n2      Población en edad de trabajar                              NaN   \n3      Población en edad de trabajar                              NaN   \n4      Población en edad de trabajar                              NaN   \n...                              ...                              ...   \n24314  Población en edad de trabajar                              NaN   \n24315  Población en edad de trabajar                              NaN   \n24316  Población en edad de trabajar  Población económicamente activa   \n24317  Población en edad de trabajar                              NaN   \n24318  Población en edad de trabajar  Población económicamente activa   \n\n                OCUPADOS DESOCUPADOS                      SUBVISIBLES  \\\n0      Población ocupada         NaN                              NaN   \n1      Población ocupada         NaN                              NaN   \n2                    NaN         NaN                              NaN   \n3                    NaN         NaN                              NaN   \n4                    NaN         NaN                              NaN   \n...                  ...         ...                              ...   \n24314                NaN         NaN                              NaN   \n24315                NaN         NaN                              NaN   \n24316  Población ocupada         NaN                              NaN   \n24317                NaN         NaN                              NaN   \n24318  Población ocupada         NaN  Población en subempleos visible   \n\n                               INACTIVOS FORMAL_INFORMAL  \n0                                    NaN          Formal  \n1                                    NaN          Formal  \n2      Población económicamente inactiva             NaN  \n3      Población económicamente inactiva             NaN  \n4      Población económicamente inactiva             NaN  \n...                                  ...             ...  \n24314  Población económicamente inactiva             NaN  \n24315  Población económicamente inactiva             NaN  \n24316                                NaN        Informal  \n24317  Población económicamente inactiva             NaN  \n24318                                NaN        Informal  \n\n[24319 rows x 261 columns]",
      "text/html": "<div>\n<style scoped>\n    .dataframe tbody tr th:only-of-type {\n        vertical-align: middle;\n    }\n\n    .dataframe tbody tr th {\n        vertical-align: top;\n    }\n\n    .dataframe thead th {\n        text-align: right;\n    }\n</style>\n<table border=\"1\" class=\"dataframe\">\n  <thead>\n    <tr style=\"text-align: right;\">\n      <th></th>\n      <th>DOMINIO</th>\n      <th>AREA</th>\n      <th>UPM</th>\n      <th>FACTOR</th>\n      <th>NUM_HOGAR</th>\n      <th>ID</th>\n      <th>PPA02</th>\n      <th>PPA03</th>\n      <th>PPA05</th>\n      <th>PPA06</th>\n      <th>...</th>\n      <th>P05A21A</th>\n      <th>P05A22A</th>\n      <th>P05A22B</th>\n      <th>PET</th>\n      <th>PEA</th>\n      <th>OCUPADOS</th>\n      <th>DESOCUPADOS</th>\n      <th>SUBVISIBLES</th>\n      <th>INACTIVOS</th>\n      <th>FORMAL_INFORMAL</th>\n    </tr>\n  </thead>\n  <tbody>\n    <tr>\n      <th>0</th>\n      <td>Urbano Metropolitano</td>\n      <td>Urbana</td>\n      <td>26.0</td>\n      <td>295.0</td>\n      <td>1.0</td>\n      <td>1.0</td>\n      <td>Mujer</td>\n      <td>43.0</td>\n      <td>Jefe(a) del hogar?</td>\n      <td>Ladino</td>\n      <td>...</td>\n      <td>NaN</td>\n      <td>No</td>\n      <td>NaN</td>\n      <td>Población en edad de trabajar</td>\n      <td>Población económicamente activa</td>\n      <td>Población ocupada</td>\n      <td>NaN</td>\n      <td>NaN</td>\n      <td>NaN</td>\n      <td>Formal</td>\n    </tr>\n    <tr>\n      <th>1</th>\n      <td>Urbano Metropolitano</td>\n      <td>Urbana</td>\n      <td>26.0</td>\n      <td>295.0</td>\n      <td>1.0</td>\n      <td>2.0</td>\n      <td>Hombre</td>\n      <td>20.0</td>\n      <td>Hijo(a)?</td>\n      <td>Ladino</td>\n      <td>...</td>\n      <td>NaN</td>\n      <td>NaN</td>\n      <td>NaN</td>\n      <td>Población en edad de trabajar</td>\n      <td>Población económicamente activa</td>\n      <td>Población ocupada</td>\n      <td>NaN</td>\n      <td>NaN</td>\n      <td>NaN</td>\n      <td>Formal</td>\n    </tr>\n    <tr>\n      <th>2</th>\n      <td>Urbano Metropolitano</td>\n      <td>Urbana</td>\n      <td>26.0</td>\n      <td>295.0</td>\n      <td>1.0</td>\n      <td>3.0</td>\n      <td>Mujer</td>\n      <td>16.0</td>\n      <td>Hijo(a)?</td>\n      <td>Ladino</td>\n      <td>...</td>\n      <td>NaN</td>\n      <td>NaN</td>\n      <td>NaN</td>\n      <td>Población en edad de trabajar</td>\n      <td>NaN</td>\n      <td>NaN</td>\n      <td>NaN</td>\n      <td>NaN</td>\n      <td>Población económicamente inactiva</td>\n      <td>NaN</td>\n    </tr>\n    <tr>\n      <th>3</th>\n      <td>Urbano Metropolitano</td>\n      <td>Urbana</td>\n      <td>26.0</td>\n      <td>295.0</td>\n      <td>1.0</td>\n      <td>4.0</td>\n      <td>Mujer</td>\n      <td>14.0</td>\n      <td>Hijo(a)?</td>\n      <td>Ladino</td>\n      <td>...</td>\n      <td>NaN</td>\n      <td>NaN</td>\n      <td>NaN</td>\n      <td>Población en edad de trabajar</td>\n      <td>NaN</td>\n      <td>NaN</td>\n      <td>NaN</td>\n      <td>NaN</td>\n      <td>Población económicamente inactiva</td>\n      <td>NaN</td>\n    </tr>\n    <tr>\n      <th>4</th>\n      <td>Urbano Metropolitano</td>\n      <td>Urbana</td>\n      <td>26.0</td>\n      <td>295.0</td>\n      <td>2.0</td>\n      <td>1.0</td>\n      <td>Hombre</td>\n      <td>69.0</td>\n      <td>Jefe(a) del hogar?</td>\n      <td>Ladino</td>\n      <td>...</td>\n      <td>NaN</td>\n      <td>Si</td>\n      <td>1500.0</td>\n      <td>Población en edad de trabajar</td>\n      <td>NaN</td>\n      <td>NaN</td>\n      <td>NaN</td>\n      <td>NaN</td>\n      <td>Población económicamente inactiva</td>\n      <td>NaN</td>\n    </tr>\n    <tr>\n      <th>...</th>\n      <td>...</td>\n      <td>...</td>\n      <td>...</td>\n      <td>...</td>\n      <td>...</td>\n      <td>...</td>\n      <td>...</td>\n      <td>...</td>\n      <td>...</td>\n      <td>...</td>\n      <td>...</td>\n      <td>...</td>\n      <td>...</td>\n      <td>...</td>\n      <td>...</td>\n      <td>...</td>\n      <td>...</td>\n      <td>...</td>\n      <td>...</td>\n      <td>...</td>\n      <td>...</td>\n    </tr>\n    <tr>\n      <th>24314</th>\n      <td>Rural Nacional</td>\n      <td>Rural</td>\n      <td>25671.0</td>\n      <td>797.0</td>\n      <td>5790.0</td>\n      <td>3.0</td>\n      <td>Mujer</td>\n      <td>18.0</td>\n      <td>Hijo(a)?</td>\n      <td>Ladino</td>\n      <td>...</td>\n      <td>NaN</td>\n      <td>NaN</td>\n      <td>NaN</td>\n      <td>Población en edad de trabajar</td>\n      <td>NaN</td>\n      <td>NaN</td>\n      <td>NaN</td>\n      <td>NaN</td>\n      <td>Población económicamente inactiva</td>\n      <td>NaN</td>\n    </tr>\n    <tr>\n      <th>24315</th>\n      <td>Rural Nacional</td>\n      <td>Rural</td>\n      <td>25671.0</td>\n      <td>797.0</td>\n      <td>5790.0</td>\n      <td>4.0</td>\n      <td>Hombre</td>\n      <td>11.0</td>\n      <td>Hijo(a)?</td>\n      <td>Ladino</td>\n      <td>...</td>\n      <td>NaN</td>\n      <td>NaN</td>\n      <td>NaN</td>\n      <td>Población en edad de trabajar</td>\n      <td>NaN</td>\n      <td>NaN</td>\n      <td>NaN</td>\n      <td>NaN</td>\n      <td>Población económicamente inactiva</td>\n      <td>NaN</td>\n    </tr>\n    <tr>\n      <th>24316</th>\n      <td>Rural Nacional</td>\n      <td>Rural</td>\n      <td>25671.0</td>\n      <td>797.0</td>\n      <td>5791.0</td>\n      <td>1.0</td>\n      <td>Hombre</td>\n      <td>85.0</td>\n      <td>Jefe(a) del hogar?</td>\n      <td>Ladino</td>\n      <td>...</td>\n      <td>NaN</td>\n      <td>Si</td>\n      <td>200.0</td>\n      <td>Población en edad de trabajar</td>\n      <td>Población económicamente activa</td>\n      <td>Población ocupada</td>\n      <td>NaN</td>\n      <td>NaN</td>\n      <td>NaN</td>\n      <td>Informal</td>\n    </tr>\n    <tr>\n      <th>24317</th>\n      <td>Rural Nacional</td>\n      <td>Rural</td>\n      <td>25671.0</td>\n      <td>797.0</td>\n      <td>5791.0</td>\n      <td>2.0</td>\n      <td>Mujer</td>\n      <td>58.0</td>\n      <td>Esposo(a) o compañero(a)?</td>\n      <td>Ladino</td>\n      <td>...</td>\n      <td>NaN</td>\n      <td>NaN</td>\n      <td>NaN</td>\n      <td>Población en edad de trabajar</td>\n      <td>NaN</td>\n      <td>NaN</td>\n      <td>NaN</td>\n      <td>NaN</td>\n      <td>Población económicamente inactiva</td>\n      <td>NaN</td>\n    </tr>\n    <tr>\n      <th>24318</th>\n      <td>Rural Nacional</td>\n      <td>Rural</td>\n      <td>25671.0</td>\n      <td>797.0</td>\n      <td>5791.0</td>\n      <td>3.0</td>\n      <td>Hombre</td>\n      <td>23.0</td>\n      <td>Hijo(a)?</td>\n      <td>Ladino</td>\n      <td>...</td>\n      <td>NaN</td>\n      <td>NaN</td>\n      <td>NaN</td>\n      <td>Población en edad de trabajar</td>\n      <td>Población económicamente activa</td>\n      <td>Población ocupada</td>\n      <td>NaN</td>\n      <td>Población en subempleos visible</td>\n      <td>NaN</td>\n      <td>Informal</td>\n    </tr>\n  </tbody>\n</table>\n<p>24319 rows × 261 columns</p>\n</div>"
     },
     "execution_count": 30,
     "metadata": {},
     "output_type": "execute_result"
    }
   ],
   "source": [
    "#Mismo efecto con apply\n",
    "def remean(row):\n",
    "    row.P05A16B = row.P05A16B - promedio_otros_ingresos\n",
    "    return row\n",
    "enei.apply(remean,axis=\"columns\")"
   ],
   "metadata": {
    "collapsed": false,
    "pycharm": {
     "name": "#%%\n"
    }
   }
  },
  {
   "cell_type": "markdown",
   "source": [
    "### Agrupamientos\n",
    "Es útil en algunas ocasiones hacer análisis agrupando según alguna variable.\n",
    "En este caso hacemos las pruebas con la variable DOMINIO."
   ],
   "metadata": {
    "collapsed": false,
    "pycharm": {
     "name": "#%% md\n"
    }
   }
  },
  {
   "cell_type": "code",
   "execution_count": 31,
   "outputs": [
    {
     "data": {
      "text/plain": "DOMINIO\nResto Urbano            7251\nRural Nacional          7416\nUrbano Metropolitano    6473\nName: P05A16A, dtype: int64"
     },
     "execution_count": 31,
     "metadata": {},
     "output_type": "execute_result"
    }
   ],
   "source": [
    "enei.groupby(['DOMINIO']).P05A16A.count()"
   ],
   "metadata": {
    "collapsed": false,
    "pycharm": {
     "name": "#%%\n"
    }
   }
  },
  {
   "cell_type": "code",
   "execution_count": 32,
   "outputs": [
    {
     "data": {
      "text/plain": "DOMINIO\nResto Urbano            100.0\nRural Nacional           60.0\nUrbano Metropolitano    200.0\nName: P05A16B, dtype: float64"
     },
     "execution_count": 32,
     "metadata": {},
     "output_type": "execute_result"
    }
   ],
   "source": [
    "#Cálculo del mínimo\n",
    "enei.groupby('DOMINIO').P05A16B.min()"
   ],
   "metadata": {
    "collapsed": false,
    "pycharm": {
     "name": "#%%\n"
    }
   }
  },
  {
   "cell_type": "code",
   "execution_count": 46,
   "outputs": [
    {
     "data": {
      "text/plain": "DOMINIO\nResto Urbano            Urbana\nRural Nacional           Rural\nUrbano Metropolitano    Urbana\ndtype: object"
     },
     "execution_count": 46,
     "metadata": {},
     "output_type": "execute_result"
    }
   ],
   "source": [
    "#Se puede utilizar el apply con el groupby\n",
    "enei.groupby(\"DOMINIO\").apply(lambda df:df.AREA.iloc[0])"
   ],
   "metadata": {
    "collapsed": false,
    "pycharm": {
     "name": "#%%\n"
    }
   }
  },
  {
   "cell_type": "code",
   "execution_count": 34,
   "outputs": [
    {
     "data": {
      "text/plain": "                                len    min      max\nDOMINIO              AREA                          \nResto Urbano         Rural      NaN    NaN      NaN\n                     Urbana  8267.0  100.0  45000.0\nRural Nacional       Rural   8845.0   60.0  13000.0\n                     Urbana     NaN    NaN      NaN\nUrbano Metropolitano Rural      NaN    NaN      NaN\n                     Urbana  7207.0  200.0  18000.0",
      "text/html": "<div>\n<style scoped>\n    .dataframe tbody tr th:only-of-type {\n        vertical-align: middle;\n    }\n\n    .dataframe tbody tr th {\n        vertical-align: top;\n    }\n\n    .dataframe thead th {\n        text-align: right;\n    }\n</style>\n<table border=\"1\" class=\"dataframe\">\n  <thead>\n    <tr style=\"text-align: right;\">\n      <th></th>\n      <th></th>\n      <th>len</th>\n      <th>min</th>\n      <th>max</th>\n    </tr>\n    <tr>\n      <th>DOMINIO</th>\n      <th>AREA</th>\n      <th></th>\n      <th></th>\n      <th></th>\n    </tr>\n  </thead>\n  <tbody>\n    <tr>\n      <th rowspan=\"2\" valign=\"top\">Resto Urbano</th>\n      <th>Rural</th>\n      <td>NaN</td>\n      <td>NaN</td>\n      <td>NaN</td>\n    </tr>\n    <tr>\n      <th>Urbana</th>\n      <td>8267.0</td>\n      <td>100.0</td>\n      <td>45000.0</td>\n    </tr>\n    <tr>\n      <th rowspan=\"2\" valign=\"top\">Rural Nacional</th>\n      <th>Rural</th>\n      <td>8845.0</td>\n      <td>60.0</td>\n      <td>13000.0</td>\n    </tr>\n    <tr>\n      <th>Urbana</th>\n      <td>NaN</td>\n      <td>NaN</td>\n      <td>NaN</td>\n    </tr>\n    <tr>\n      <th rowspan=\"2\" valign=\"top\">Urbano Metropolitano</th>\n      <th>Rural</th>\n      <td>NaN</td>\n      <td>NaN</td>\n      <td>NaN</td>\n    </tr>\n    <tr>\n      <th>Urbana</th>\n      <td>7207.0</td>\n      <td>200.0</td>\n      <td>18000.0</td>\n    </tr>\n  </tbody>\n</table>\n</div>"
     },
     "execution_count": 34,
     "metadata": {},
     "output_type": "execute_result"
    }
   ],
   "source": [
    "#Función agg permite utilizar varias funciones de resumen al mismo tiempo\n",
    "enei.groupby(['DOMINIO','AREA']).P05A16B.agg([len,min,max])"
   ],
   "metadata": {
    "collapsed": false,
    "pycharm": {
     "name": "#%%\n"
    }
   }
  },
  {
   "cell_type": "markdown",
   "source": [
    "### Tipos de datos y valores perdidos\n",
    "El tipo de dato en una serie de dataframe se guarda en el atributo dtype."
   ],
   "metadata": {
    "collapsed": false,
    "pycharm": {
     "name": "#%% md\n"
    }
   }
  },
  {
   "cell_type": "code",
   "execution_count": 36,
   "outputs": [
    {
     "data": {
      "text/plain": "dtype('float64')"
     },
     "execution_count": 36,
     "metadata": {},
     "output_type": "execute_result"
    }
   ],
   "source": [
    "enei.P05A16B.dtype"
   ],
   "metadata": {
    "collapsed": false,
    "pycharm": {
     "name": "#%%\n"
    }
   }
  },
  {
   "cell_type": "code",
   "execution_count": 37,
   "outputs": [
    {
     "data": {
      "text/plain": "DOMINIO            category\nAREA               category\nUPM                 float64\nFACTOR              float64\nNUM_HOGAR           float64\n                     ...   \nOCUPADOS           category\nDESOCUPADOS        category\nSUBVISIBLES        category\nINACTIVOS          category\nFORMAL_INFORMAL    category\nLength: 261, dtype: object"
     },
     "execution_count": 37,
     "metadata": {},
     "output_type": "execute_result"
    }
   ],
   "source": [
    "enei.dtypes"
   ],
   "metadata": {
    "collapsed": false,
    "pycharm": {
     "name": "#%%\n"
    }
   }
  },
  {
   "cell_type": "code",
   "execution_count": 50,
   "outputs": [
    {
     "data": {
      "text/plain": "(24254, 261)"
     },
     "execution_count": 50,
     "metadata": {},
     "output_type": "execute_result"
    }
   ],
   "source": [
    "#Valores perdidos\n",
    "enei[pd.isnull(enei.P05A16B)].shape"
   ],
   "metadata": {
    "collapsed": false,
    "pycharm": {
     "name": "#%%\n"
    }
   }
  }
 ],
 "metadata": {
  "kernelspec": {
   "display_name": "Python 3",
   "language": "python",
   "name": "python3"
  },
  "language_info": {
   "codemirror_mode": {
    "name": "ipython",
    "version": 2
   },
   "file_extension": ".py",
   "mimetype": "text/x-python",
   "name": "python",
   "nbconvert_exporter": "python",
   "pygments_lexer": "ipython2",
   "version": "2.7.6"
  }
 },
 "nbformat": 4,
 "nbformat_minor": 0
}