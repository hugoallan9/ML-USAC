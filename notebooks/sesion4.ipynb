{
 "cells": [
  {
   "cell_type": "markdown",
   "metadata": {
    "collapsed": true,
    "pycharm": {
     "name": "#%% md\n"
    }
   },
   "source": [
    "# Sesión 4\n",
    "Ejemplo de regresión lineal de Ridge y Lasso. Método de RandomForest.\n",
    "Esta libreta también contiene ejemplos de cómo utilizar la validación cruzada."
   ]
  },
  {
   "cell_type": "code",
   "execution_count": 2,
   "outputs": [],
   "source": [
    "import pandas as pd\n",
    "from Funciones.modelo import estadisticas\n",
    "from sklearn.pipeline import make_pipeline\n",
    "from sklearn.preprocessing import StandardScaler\n",
    "from sklearn.model_selection import train_test_split\n",
    "from sklearn.linear_model import Ridge, RidgeCV, LassoCV\n",
    "import numpy as np"
   ],
   "metadata": {
    "collapsed": false,
    "pycharm": {
     "name": "#%%\n"
    }
   }
  },
  {
   "cell_type": "code",
   "execution_count": 3,
   "outputs": [],
   "source": [
    "data_training = pd.read_excel(\"../data/datos_casas_limpios_training.xlsx\")\n",
    "data_testing = pd.read_excel(\"../data/datos_casas_limpios_test.xlsx\")"
   ],
   "metadata": {
    "collapsed": false,
    "pycharm": {
     "name": "#%%\n"
    }
   }
  },
  {
   "cell_type": "code",
   "execution_count": 4,
   "outputs": [
    {
     "data": {
      "text/plain": "(1460, 81)"
     },
     "execution_count": 4,
     "metadata": {},
     "output_type": "execute_result"
    }
   ],
   "source": [
    "data_training.shape"
   ],
   "metadata": {
    "collapsed": false,
    "pycharm": {
     "name": "#%%\n"
    }
   }
  },
  {
   "cell_type": "code",
   "execution_count": 5,
   "outputs": [
    {
     "data": {
      "text/plain": "(1459, 81)"
     },
     "execution_count": 5,
     "metadata": {},
     "output_type": "execute_result"
    }
   ],
   "source": [
    "data_testing.shape"
   ],
   "metadata": {
    "collapsed": false,
    "pycharm": {
     "name": "#%%\n"
    }
   }
  },
  {
   "cell_type": "markdown",
   "source": [
    "## Creación de variables Dummies\n",
    "Antes de comenzar con el modelo, como en este caso se tienen variables cualitativas, se debe crear las respectivas variables dummies. Para ello se puede hacer uso de la\n",
    "función get_dummies de pandas."
   ],
   "metadata": {
    "collapsed": false,
    "pycharm": {
     "name": "#%% md\n"
    }
   }
  },
  {
   "cell_type": "code",
   "execution_count": 6,
   "outputs": [
    {
     "data": {
      "text/plain": "(1460, 79)"
     },
     "execution_count": 6,
     "metadata": {},
     "output_type": "execute_result"
    }
   ],
   "source": [
    "#Eliminando la variable ID y la variable target.\n",
    "y = data_training[\"SalePrice\"]\n",
    "data_training.drop([\"SalePrice\", \"Id\"], inplace=True, axis=1)\n",
    "data_training.shape"
   ],
   "metadata": {
    "collapsed": false,
    "pycharm": {
     "name": "#%%\n"
    }
   }
  },
  {
   "cell_type": "code",
   "execution_count": 7,
   "outputs": [
    {
     "data": {
      "text/plain": "(1460, 300)"
     },
     "execution_count": 7,
     "metadata": {},
     "output_type": "execute_result"
    }
   ],
   "source": [
    "#Creación de las dummies\n",
    "X = pd.get_dummies(data_training)\n",
    "X.shape"
   ],
   "metadata": {
    "collapsed": false,
    "pycharm": {
     "name": "#%%\n"
    }
   }
  },
  {
   "cell_type": "code",
   "source": [
    "X.head()"
   ],
   "metadata": {
    "collapsed": false,
    "pycharm": {
     "name": "#%%\n"
    }
   },
   "execution_count": 8,
   "outputs": [
    {
     "data": {
      "text/plain": "   MSSubClass  LotFrontage  LotArea  OverallQual  OverallCond  YearBuilt  \\\n0          60         65.0     8450            7            5       2003   \n1          20         80.0     9600            6            8       1976   \n2          60         68.0    11250            7            5       2001   \n3          70         60.0     9550            7            5       1915   \n4          60         84.0    14260            8            5       2000   \n\n   YearRemodAdd  MasVnrArea  BsmtFinSF1  BsmtFinSF2  ...  SaleType_ConLw  \\\n0          2003         196         706           0  ...               0   \n1          1976           0         978           0  ...               0   \n2          2002         162         486           0  ...               0   \n3          1970           0         216           0  ...               0   \n4          2000         350         655           0  ...               0   \n\n   SaleType_New  SaleType_Oth  SaleType_WD  SaleCondition_Abnorml  \\\n0             0             0            1                      0   \n1             0             0            1                      0   \n2             0             0            1                      0   \n3             0             0            1                      1   \n4             0             0            1                      0   \n\n   SaleCondition_AdjLand  SaleCondition_Alloca  SaleCondition_Family  \\\n0                      0                     0                     0   \n1                      0                     0                     0   \n2                      0                     0                     0   \n3                      0                     0                     0   \n4                      0                     0                     0   \n\n   SaleCondition_Normal  SaleCondition_Partial  \n0                     1                      0  \n1                     1                      0  \n2                     1                      0  \n3                     0                      0  \n4                     1                      0  \n\n[5 rows x 300 columns]",
      "text/html": "<div>\n<style scoped>\n    .dataframe tbody tr th:only-of-type {\n        vertical-align: middle;\n    }\n\n    .dataframe tbody tr th {\n        vertical-align: top;\n    }\n\n    .dataframe thead th {\n        text-align: right;\n    }\n</style>\n<table border=\"1\" class=\"dataframe\">\n  <thead>\n    <tr style=\"text-align: right;\">\n      <th></th>\n      <th>MSSubClass</th>\n      <th>LotFrontage</th>\n      <th>LotArea</th>\n      <th>OverallQual</th>\n      <th>OverallCond</th>\n      <th>YearBuilt</th>\n      <th>YearRemodAdd</th>\n      <th>MasVnrArea</th>\n      <th>BsmtFinSF1</th>\n      <th>BsmtFinSF2</th>\n      <th>...</th>\n      <th>SaleType_ConLw</th>\n      <th>SaleType_New</th>\n      <th>SaleType_Oth</th>\n      <th>SaleType_WD</th>\n      <th>SaleCondition_Abnorml</th>\n      <th>SaleCondition_AdjLand</th>\n      <th>SaleCondition_Alloca</th>\n      <th>SaleCondition_Family</th>\n      <th>SaleCondition_Normal</th>\n      <th>SaleCondition_Partial</th>\n    </tr>\n  </thead>\n  <tbody>\n    <tr>\n      <th>0</th>\n      <td>60</td>\n      <td>65.0</td>\n      <td>8450</td>\n      <td>7</td>\n      <td>5</td>\n      <td>2003</td>\n      <td>2003</td>\n      <td>196</td>\n      <td>706</td>\n      <td>0</td>\n      <td>...</td>\n      <td>0</td>\n      <td>0</td>\n      <td>0</td>\n      <td>1</td>\n      <td>0</td>\n      <td>0</td>\n      <td>0</td>\n      <td>0</td>\n      <td>1</td>\n      <td>0</td>\n    </tr>\n    <tr>\n      <th>1</th>\n      <td>20</td>\n      <td>80.0</td>\n      <td>9600</td>\n      <td>6</td>\n      <td>8</td>\n      <td>1976</td>\n      <td>1976</td>\n      <td>0</td>\n      <td>978</td>\n      <td>0</td>\n      <td>...</td>\n      <td>0</td>\n      <td>0</td>\n      <td>0</td>\n      <td>1</td>\n      <td>0</td>\n      <td>0</td>\n      <td>0</td>\n      <td>0</td>\n      <td>1</td>\n      <td>0</td>\n    </tr>\n    <tr>\n      <th>2</th>\n      <td>60</td>\n      <td>68.0</td>\n      <td>11250</td>\n      <td>7</td>\n      <td>5</td>\n      <td>2001</td>\n      <td>2002</td>\n      <td>162</td>\n      <td>486</td>\n      <td>0</td>\n      <td>...</td>\n      <td>0</td>\n      <td>0</td>\n      <td>0</td>\n      <td>1</td>\n      <td>0</td>\n      <td>0</td>\n      <td>0</td>\n      <td>0</td>\n      <td>1</td>\n      <td>0</td>\n    </tr>\n    <tr>\n      <th>3</th>\n      <td>70</td>\n      <td>60.0</td>\n      <td>9550</td>\n      <td>7</td>\n      <td>5</td>\n      <td>1915</td>\n      <td>1970</td>\n      <td>0</td>\n      <td>216</td>\n      <td>0</td>\n      <td>...</td>\n      <td>0</td>\n      <td>0</td>\n      <td>0</td>\n      <td>1</td>\n      <td>1</td>\n      <td>0</td>\n      <td>0</td>\n      <td>0</td>\n      <td>0</td>\n      <td>0</td>\n    </tr>\n    <tr>\n      <th>4</th>\n      <td>60</td>\n      <td>84.0</td>\n      <td>14260</td>\n      <td>8</td>\n      <td>5</td>\n      <td>2000</td>\n      <td>2000</td>\n      <td>350</td>\n      <td>655</td>\n      <td>0</td>\n      <td>...</td>\n      <td>0</td>\n      <td>0</td>\n      <td>0</td>\n      <td>1</td>\n      <td>0</td>\n      <td>0</td>\n      <td>0</td>\n      <td>0</td>\n      <td>1</td>\n      <td>0</td>\n    </tr>\n  </tbody>\n</table>\n<p>5 rows × 300 columns</p>\n</div>"
     },
     "execution_count": 8,
     "metadata": {},
     "output_type": "execute_result"
    }
   ]
  },
  {
   "cell_type": "markdown",
   "source": [
    "### Regresión de Ridge\n",
    "Existe una clase dentro de sklearn que me permite hacer una regresión de Ridge.\n",
    "En este caso, voy a hacer de una tubería para simplificar el proceso, ya que interesa primero estandarizar los datos."
   ],
   "metadata": {
    "collapsed": false,
    "pycharm": {
     "name": "#%% md\n"
    }
   }
  },
  {
   "cell_type": "code",
   "execution_count": 9,
   "outputs": [],
   "source": [
    "X_train, X_holdout, y_train, y_holdout = train_test_split(X,y,test_size=0.2, random_state=5)\n"
   ],
   "metadata": {
    "collapsed": false,
    "pycharm": {
     "name": "#%%\n"
    }
   }
  },
  {
   "cell_type": "code",
   "execution_count": 10,
   "outputs": [
    {
     "name": "stdout",
     "output_type": "stream",
     "text": [
      "*************Alpha = 0.00e+00******************\n",
      "**********Estadísticas training Alpha = 0.00e+00******************\n",
      "R-Square Value 0.8456825032683649\n",
      "\n",
      "\n",
      "mean_absolute_error : 23049.336758391415\n",
      "\n",
      "\n",
      "mean_squared_error :  966036000.0724629\n",
      "\n",
      "\n",
      "root_mean_squared_error :  31081.119672117075\n",
      "*******Estadísticas testeo Alpha = 0.00e+00******************\n",
      "R-Square Value -1.3730293934531605e+28\n",
      "\n",
      "\n",
      "mean_absolute_error : 9.76572224596477e+17\n",
      "\n",
      "\n",
      "mean_squared_error :  8.910969823502469e+37\n",
      "\n",
      "\n",
      "root_mean_squared_error :  9.439793336457355e+18\n",
      "*************Alpha = 1.00e-15******************\n",
      "**********Estadísticas training Alpha = 1.00e-15******************\n",
      "R-Square Value 0.9379115042455075\n",
      "\n",
      "\n",
      "mean_absolute_error : 12678.36171212934\n",
      "\n",
      "\n",
      "mean_squared_error :  388677391.4787732\n",
      "\n",
      "\n",
      "root_mean_squared_error :  19714.902776295225\n",
      "*******Estadísticas testeo Alpha = 1.00e-15******************\n",
      "R-Square Value -100.94197550113189\n",
      "\n",
      "\n",
      "mean_absolute_error : 100553.56320039109\n",
      "\n",
      "\n",
      "mean_squared_error :  661604093670.7037\n",
      "\n",
      "\n",
      "root_mean_squared_error :  813390.4927343961\n",
      "*************Alpha = 1.00e-10******************\n",
      "**********Estadísticas training Alpha = 1.00e-10******************\n",
      "R-Square Value 0.9379115042455075\n",
      "\n",
      "\n",
      "mean_absolute_error : 12678.361712192753\n",
      "\n",
      "\n",
      "mean_squared_error :  388677391.47877306\n",
      "\n",
      "\n",
      "root_mean_squared_error :  19714.90277629522\n",
      "*******Estadísticas testeo Alpha = 1.00e-10******************\n",
      "R-Square Value 0.39415638880305115\n",
      "\n",
      "\n",
      "mean_absolute_error : 19736.54036080201\n",
      "\n",
      "\n",
      "mean_squared_error :  3931929034.3524203\n",
      "\n",
      "\n",
      "root_mean_squared_error :  62705.095760651064\n",
      "*************Alpha = 1.00e-08******************\n",
      "**********Estadísticas training Alpha = 1.00e-08******************\n",
      "R-Square Value 0.9379115042455075\n",
      "\n",
      "\n",
      "mean_absolute_error : 12678.361718373575\n",
      "\n",
      "\n",
      "mean_squared_error :  388677391.4787731\n",
      "\n",
      "\n",
      "root_mean_squared_error :  19714.902776295225\n",
      "*******Estadísticas testeo Alpha = 1.00e-08******************\n",
      "R-Square Value 0.3941676933221969\n",
      "\n",
      "\n",
      "mean_absolute_error : 19736.06011991543\n",
      "\n",
      "\n",
      "mean_squared_error :  3931855667.9485707\n",
      "\n",
      "\n",
      "root_mean_squared_error :  62704.51074642534\n",
      "*************Alpha = 1.00e-04******************\n",
      "**********Estadísticas training Alpha = 1.00e-04******************\n",
      "R-Square Value 0.9379115036550912\n",
      "\n",
      "\n",
      "mean_absolute_error : 12678.424118653033\n",
      "\n",
      "\n",
      "mean_squared_error :  388677395.1748112\n",
      "\n",
      "\n",
      "root_mean_squared_error :  19714.902870032387\n",
      "*******Estadísticas testeo Alpha = 1.00e-04******************\n",
      "R-Square Value 0.3946292520321941\n",
      "\n",
      "\n",
      "mean_absolute_error : 19734.559303858856\n",
      "\n",
      "\n",
      "mean_squared_error :  3928860148.8750744\n",
      "\n",
      "\n",
      "root_mean_squared_error :  62680.62020174238\n",
      "*************Alpha = 1.00e-03******************\n",
      "**********Estadísticas training Alpha = 1.00e-03******************\n",
      "R-Square Value 0.9379114456626784\n",
      "\n",
      "\n",
      "mean_absolute_error : 12678.991772710053\n",
      "\n",
      "\n",
      "mean_squared_error :  388677758.21049905\n",
      "\n",
      "\n",
      "root_mean_squared_error :  19714.912077168872\n",
      "*******Estadísticas testeo Alpha = 1.00e-03******************\n",
      "R-Square Value 0.39874740232284955\n",
      "\n",
      "\n",
      "mean_absolute_error : 19721.49457726269\n",
      "\n",
      "\n",
      "mean_squared_error :  3902133326.3149347\n",
      "\n",
      "\n",
      "root_mean_squared_error :  62467.05792907919\n",
      "*************Alpha = 1.00e-02******************\n",
      "**********Estadísticas training Alpha = 1.00e-02******************\n",
      "R-Square Value 0.9379060767603635\n",
      "\n",
      "\n",
      "mean_absolute_error : 12684.830527715754\n",
      "\n",
      "\n",
      "mean_squared_error :  388711367.8336909\n",
      "\n",
      "\n",
      "root_mean_squared_error :  19715.76444964006\n",
      "*******Estadísticas testeo Alpha = 1.00e-02******************\n",
      "R-Square Value 0.437366317951133\n",
      "\n",
      "\n",
      "mean_absolute_error : 19596.283933849758\n",
      "\n",
      "\n",
      "mean_squared_error :  3651496309.058857\n",
      "\n",
      "\n",
      "root_mean_squared_error :  60427.61214096464\n",
      "*************Alpha = 1.00e+00******************\n",
      "**********Estadísticas training Alpha = 1.00e+00******************\n",
      "R-Square Value 0.9358409692920504\n",
      "\n",
      "\n",
      "mean_absolute_error : 12955.802486786337\n",
      "\n",
      "\n",
      "mean_squared_error :  401639053.9396821\n",
      "\n",
      "\n",
      "root_mean_squared_error :  20040.93445774628\n",
      "*******Estadísticas testeo Alpha = 1.00e+00******************\n",
      "R-Square Value 0.8847031891865488\n",
      "\n",
      "\n",
      "mean_absolute_error : 17343.284344685562\n",
      "\n",
      "\n",
      "mean_squared_error :  748277062.9700917\n",
      "\n",
      "\n",
      "root_mean_squared_error :  27354.653406140824\n",
      "*************Alpha = 5.00e+00******************\n",
      "**********Estadísticas training Alpha = 5.00e+00******************\n",
      "R-Square Value 0.9350144588307521\n",
      "\n",
      "\n",
      "mean_absolute_error : 13041.342631644879\n",
      "\n",
      "\n",
      "mean_squared_error :  406813054.79481035\n",
      "\n",
      "\n",
      "root_mean_squared_error :  20169.607204772492\n",
      "*******Estadísticas testeo Alpha = 5.00e+00******************\n",
      "R-Square Value 0.8939866673681074\n",
      "\n",
      "\n",
      "mean_absolute_error : 16988.378463864155\n",
      "\n",
      "\n",
      "mean_squared_error :  688027228.3143595\n",
      "\n",
      "\n",
      "root_mean_squared_error :  26230.273126949316\n",
      "*************Alpha = 1.00e+01******************\n",
      "**********Estadísticas training Alpha = 1.00e+01******************\n",
      "R-Square Value 0.93479842573989\n",
      "\n",
      "\n",
      "mean_absolute_error : 13062.587822088562\n",
      "\n",
      "\n",
      "mean_squared_error :  408165433.80172646\n",
      "\n",
      "\n",
      "root_mean_squared_error :  20203.104558501065\n",
      "*******Estadísticas testeo Alpha = 1.00e+01******************\n",
      "R-Square Value 0.8932808430164995\n",
      "\n",
      "\n",
      "mean_absolute_error : 17052.09182575079\n",
      "\n",
      "\n",
      "mean_squared_error :  692608033.0137063\n",
      "\n",
      "\n",
      "root_mean_squared_error :  26317.447311882403\n",
      "*************Alpha = 2.00e+01******************\n",
      "**********Estadísticas training Alpha = 2.00e+01******************\n",
      "R-Square Value 0.9344693825627023\n",
      "\n",
      "\n",
      "mean_absolute_error : 13096.240457028951\n",
      "\n",
      "\n",
      "mean_squared_error :  410225262.1521971\n",
      "\n",
      "\n",
      "root_mean_squared_error :  20254.01841986417\n",
      "*******Estadísticas testeo Alpha = 2.00e+01******************\n",
      "R-Square Value 0.8924673553891233\n",
      "\n",
      "\n",
      "mean_absolute_error : 17063.304112060334\n",
      "\n",
      "\n",
      "mean_squared_error :  697887573.08321\n",
      "\n",
      "\n",
      "root_mean_squared_error :  26417.56183078238\n",
      "*************Alpha = 1.00e+02******************\n",
      "**********Estadísticas training Alpha = 1.00e+02******************\n",
      "R-Square Value 0.9310606032714566\n",
      "\n",
      "\n",
      "mean_absolute_error : 13448.629728572367\n",
      "\n",
      "\n",
      "mean_squared_error :  431564407.6242856\n",
      "\n",
      "\n",
      "root_mean_squared_error :  20774.128324054553\n",
      "*******Estadísticas testeo Alpha = 1.00e+02******************\n",
      "R-Square Value 0.8881734149914942\n",
      "\n",
      "\n",
      "mean_absolute_error : 16786.39026613506\n",
      "\n",
      "\n",
      "mean_squared_error :  725755274.597567\n",
      "\n",
      "\n",
      "root_mean_squared_error :  26939.84548206554\n"
     ]
    }
   ],
   "source": [
    "alpha_ridge = [0,1e-15, 1e-10, 1e-8, 1e-4, 1e-3,1e-2, 1, 5, 10, 20,100]\n",
    "for i in range(len(alpha_ridge)):\n",
    "    print(\"*************Alpha = %.2e******************\"%alpha_ridge[i])\n",
    "    ridgereg = make_pipeline(StandardScaler(with_mean=True), Ridge(alpha=alpha_ridge[i]))\n",
    "    ridgereg.fit(X_train,y_train)\n",
    "    print(\"**********Estadísticas training Alpha = %.2e******************\"%alpha_ridge[i])\n",
    "    y_predicted = ridgereg.predict(X_train)\n",
    "    estadisticas(y_predicted,y_train)\n",
    "\n",
    "    print(\"*******Estadísticas testeo Alpha = %.2e******************\"%alpha_ridge[i])\n",
    "    y_predicted = ridgereg.predict(X_holdout)\n",
    "    estadisticas(y_predicted,y_holdout)"
   ],
   "metadata": {
    "collapsed": false,
    "pycharm": {
     "name": "#%%\n"
    }
   }
  },
  {
   "cell_type": "markdown",
   "source": [
    "### Tuning de Ridge\n",
    "En este parte, utilizando validación cruzada, voy a encontrar el mejor valor de alpha."
   ],
   "metadata": {
    "collapsed": false,
    "pycharm": {
     "name": "#%% md\n"
    }
   }
  },
  {
   "cell_type": "code",
   "execution_count": 11,
   "outputs": [
    {
     "name": "stdout",
     "output_type": "stream",
     "text": [
      "**********Estadísticas training RidgeCV******************\n",
      "R-Square Value 0.8909995833218559\n",
      "\n",
      "\n",
      "mean_absolute_error : 16130.657926397123\n",
      "\n",
      "\n",
      "mean_squared_error :  682348591.4698609\n",
      "\n",
      "\n",
      "root_mean_squared_error :  26121.802990411303\n",
      "*******Estadísticas testeo RidgeCV******************\n",
      "R-Square Value 0.8563678688881379\n",
      "\n",
      "\n",
      "mean_absolute_error : 17428.719473243276\n",
      "\n",
      "\n",
      "mean_squared_error :  932173478.6785655\n",
      "\n",
      "\n",
      "root_mean_squared_error :  30531.516154271892\n"
     ]
    },
    {
     "name": "stderr",
     "output_type": "stream",
     "text": [
      "/home/hugog/GitHub/ML-USAC/.venv/lib/python3.10/site-packages/sklearn/linear_model/_base.py:141: FutureWarning: 'normalize' was deprecated in version 1.0 and will be removed in 1.2.\n",
      "If you wish to scale the data, use Pipeline with a StandardScaler in a preprocessing stage. To reproduce the previous behavior:\n",
      "\n",
      "from sklearn.pipeline import make_pipeline\n",
      "\n",
      "model = make_pipeline(StandardScaler(with_mean=False), _RidgeGCV())\n",
      "\n",
      "If you wish to pass a sample_weight parameter, you need to pass it as a fit parameter to each step of the pipeline as follows:\n",
      "\n",
      "kwargs = {s[0] + '__sample_weight': sample_weight for s in model.steps}\n",
      "model.fit(X, y, **kwargs)\n",
      "\n",
      "\n",
      "  warnings.warn(\n"
     ]
    }
   ],
   "source": [
    "alpha_range = 10.**np.arange(-2, 3)\n",
    "ridgereg = make_pipeline(StandardScaler(with_mean=False), RidgeCV(alphas=alpha_range,scoring='neg_mean_squared_error', normalize=True))\n",
    "ridgereg.fit(X_train,y_train)\n",
    "print(\"**********Estadísticas training RidgeCV******************\")\n",
    "y_predicted = ridgereg.predict(X_train)\n",
    "estadisticas(y_predicted,y_train)\n",
    "\n",
    "print(\"*******Estadísticas testeo RidgeCV******************\")\n",
    "y_predicted = ridgereg.predict(X_holdout)\n",
    "estadisticas(y_predicted,y_holdout)"
   ],
   "metadata": {
    "collapsed": false,
    "pycharm": {
     "name": "#%%\n"
    }
   }
  },
  {
   "cell_type": "code",
   "execution_count": 12,
   "outputs": [
    {
     "data": {
      "text/plain": "1.0"
     },
     "execution_count": 12,
     "metadata": {},
     "output_type": "execute_result"
    }
   ],
   "source": [
    "ridgereg.get_params()[\"ridgecv\"].alpha_"
   ],
   "metadata": {
    "collapsed": false,
    "pycharm": {
     "name": "#%%\n"
    }
   }
  },
  {
   "cell_type": "markdown",
   "source": [
    "### Tuning de Lasso\n",
    "En este parte, utilizando validación cruzada, voy a encontrar el mejor valor de alpha para Lasso."
   ],
   "metadata": {
    "collapsed": false,
    "pycharm": {
     "name": "#%% md\n"
    }
   }
  },
  {
   "cell_type": "code",
   "execution_count": 13,
   "outputs": [
    {
     "name": "stderr",
     "output_type": "stream",
     "text": [
      "/home/hugog/GitHub/ML-USAC/.venv/lib/python3.10/site-packages/sklearn/linear_model/_coordinate_descent.py:633: ConvergenceWarning: Objective did not converge. You might want to increase the number of iterations. Duality gap: 1959058558.8120728, tolerance: 584749334.5444232\n",
      "  model = cd_fast.enet_coordinate_descent_gram(\n"
     ]
    },
    {
     "name": "stdout",
     "output_type": "stream",
     "text": [
      "alpha :  34.30055603142735\n",
      "**********Estadísticas training LassoCV******************\n",
      "R-Square Value 0.9132607156201434\n",
      "\n",
      "\n",
      "mean_absolute_error : 14834.980229766095\n",
      "\n",
      "\n",
      "mean_squared_error :  542992681.362533\n",
      "\n",
      "\n",
      "root_mean_squared_error :  23302.20335853528\n",
      "*******Estadísticas testeo LassoCV******************\n",
      "R-Square Value 0.9014640187261089\n",
      "\n",
      "\n",
      "mean_absolute_error : 15269.201135443536\n",
      "\n",
      "\n",
      "mean_squared_error :  639499168.6613162\n",
      "\n",
      "\n",
      "root_mean_squared_error :  25288.320795602784\n"
     ]
    },
    {
     "name": "stderr",
     "output_type": "stream",
     "text": [
      "/home/hugog/GitHub/ML-USAC/.venv/lib/python3.10/site-packages/sklearn/linear_model/_coordinate_descent.py:633: ConvergenceWarning: Objective did not converge. You might want to increase the number of iterations. Duality gap: 1251154687.855713, tolerance: 578196582.50901\n",
      "  model = cd_fast.enet_coordinate_descent_gram(\n",
      "/home/hugog/GitHub/ML-USAC/.venv/lib/python3.10/site-packages/sklearn/linear_model/_base.py:141: FutureWarning: 'normalize' was deprecated in version 1.0 and will be removed in 1.2.\n",
      "If you wish to scale the data, use Pipeline with a StandardScaler in a preprocessing stage. To reproduce the previous behavior:\n",
      "\n",
      "from sklearn.pipeline import make_pipeline\n",
      "\n",
      "model = make_pipeline(StandardScaler(with_mean=False), Lasso())\n",
      "\n",
      "If you wish to pass a sample_weight parameter, you need to pass it as a fit parameter to each step of the pipeline as follows:\n",
      "\n",
      "kwargs = {s[0] + '__sample_weight': sample_weight for s in model.steps}\n",
      "model.fit(X, y, **kwargs)\n",
      "\n",
      "Set parameter alpha to: original_alpha * np.sqrt(n_samples). \n",
      "  warnings.warn(\n"
     ]
    }
   ],
   "source": [
    "lassoregcv = LassoCV(n_alphas=100, normalize=True, random_state=1)\n",
    "lassoregcv.fit(X_train, y_train)\n",
    "print('alpha : ',lassoregcv.alpha_)\n",
    "\n",
    "print(\"**********Estadísticas training LassoCV******************\")\n",
    "y_predicted = lassoregcv.predict(X_train)\n",
    "estadisticas(y_predicted,y_train)\n",
    "\n",
    "print(\"*******Estadísticas testeo LassoCV******************\")\n",
    "y_predicted = lassoregcv.predict(X_holdout)\n",
    "estadisticas(y_predicted,y_holdout)"
   ],
   "metadata": {
    "collapsed": false,
    "pycharm": {
     "name": "#%%\n"
    }
   }
  },
  {
   "cell_type": "code",
   "execution_count": 14,
   "outputs": [
    {
     "data": {
      "text/plain": "34.30055603142735"
     },
     "execution_count": 14,
     "metadata": {},
     "output_type": "execute_result"
    }
   ],
   "source": [
    "lassoregcv.alpha_"
   ],
   "metadata": {
    "collapsed": false,
    "pycharm": {
     "name": "#%%\n"
    }
   }
  },
  {
   "cell_type": "code",
   "execution_count": 15,
   "outputs": [
    {
     "data": {
      "text/plain": "array([-3.87852548e+01,  0.00000000e+00,  3.48951146e-01,  9.50272652e+03,\n        3.42130840e+03,  2.23494226e+02,  1.19667834e+02,  5.32499436e+00,\n        1.46011156e+01,  0.00000000e+00, -0.00000000e+00,  1.32947443e+01,\n        0.00000000e+00,  0.00000000e+00, -2.04544824e-01,  4.57751660e+01,\n        2.22576359e+03, -1.81838980e+03,  2.50936517e+03,  0.00000000e+00,\n       -0.00000000e+00, -1.64336154e+03,  8.20756550e+01,  4.23839391e+03,\n        4.57906196e+01,  4.30878872e+03,  1.34368701e+01,  1.26046916e+01,\n        0.00000000e+00, -0.00000000e+00,  0.00000000e+00,  3.13417919e+01,\n        0.00000000e+00, -0.00000000e+00, -0.00000000e+00,  0.00000000e+00,\n       -7.42458181e+03,  2.26352953e+03, -0.00000000e+00,  0.00000000e+00,\n       -1.89360585e+03, -0.00000000e+00,  0.00000000e+00, -0.00000000e+00,\n        0.00000000e+00,  0.00000000e+00,  0.00000000e+00,  2.81534507e+03,\n        0.00000000e+00, -0.00000000e+00, -0.00000000e+00,  0.00000000e+00,\n       -0.00000000e+00,  0.00000000e+00,  0.00000000e+00, -0.00000000e+00,\n       -0.00000000e+00,  2.94641435e+03, -0.00000000e+00, -0.00000000e+00,\n        0.00000000e+00, -0.00000000e+00,  4.03808185e+03, -0.00000000e+00,\n       -0.00000000e+00, -0.00000000e+00,  0.00000000e+00,  7.61298841e+02,\n        0.00000000e+00,  0.00000000e+00,  2.10390370e+04, -1.17331465e+03,\n        0.00000000e+00, -0.00000000e+00,  0.00000000e+00, -2.31933814e+03,\n       -0.00000000e+00,  0.00000000e+00, -0.00000000e+00,  3.30650519e+04,\n        2.36582711e+04, -1.67462508e+02, -0.00000000e+00, -0.00000000e+00,\n        0.00000000e+00,  3.10932555e+03,  3.98045459e+04, -0.00000000e+00,\n        5.12581598e+03, -6.73232308e+02, -0.00000000e+00,  5.59970905e+03,\n        0.00000000e+00,  0.00000000e+00, -2.20723389e+03,  0.00000000e+00,\n       -0.00000000e+00, -0.00000000e+00,  0.00000000e+00, -0.00000000e+00,\n        0.00000000e+00,  0.00000000e+00, -1.75488679e+05, -0.00000000e+00,\n       -0.00000000e+00,  0.00000000e+00,  1.25148827e+04,  0.00000000e+00,\n       -0.00000000e+00, -0.00000000e+00, -0.00000000e+00, -0.00000000e+00,\n        0.00000000e+00,  0.00000000e+00, -0.00000000e+00, -0.00000000e+00,\n        0.00000000e+00, -0.00000000e+00, -0.00000000e+00, -0.00000000e+00,\n       -0.00000000e+00,  0.00000000e+00,  4.65514420e+02,  0.00000000e+00,\n        0.00000000e+00, -5.07813593e+05, -0.00000000e+00,  7.55498429e+02,\n        0.00000000e+00,  0.00000000e+00, -6.70910602e+02,  0.00000000e+00,\n        2.05350489e+04, -0.00000000e+00, -0.00000000e+00, -2.07892824e+02,\n        1.23402238e+04, -0.00000000e+00,  0.00000000e+00, -1.73040125e+03,\n       -0.00000000e+00, -0.00000000e+00, -0.00000000e+00,  0.00000000e+00,\n       -0.00000000e+00,  0.00000000e+00, -0.00000000e+00,  0.00000000e+00,\n       -0.00000000e+00,  0.00000000e+00, -0.00000000e+00,  0.00000000e+00,\n       -0.00000000e+00,  0.00000000e+00, -0.00000000e+00,  5.60920976e+03,\n       -0.00000000e+00,  0.00000000e+00, -0.00000000e+00,  0.00000000e+00,\n       -0.00000000e+00,  0.00000000e+00, -0.00000000e+00, -0.00000000e+00,\n       -0.00000000e+00, -0.00000000e+00,  0.00000000e+00,  0.00000000e+00,\n        0.00000000e+00,  2.47895702e+04,  0.00000000e+00,  0.00000000e+00,\n       -4.53525904e+03,  0.00000000e+00, -0.00000000e+00, -0.00000000e+00,\n        0.00000000e+00,  0.00000000e+00, -0.00000000e+00, -0.00000000e+00,\n        1.22043280e+03, -0.00000000e+00,  0.00000000e+00, -0.00000000e+00,\n        2.38296322e+04, -0.00000000e+00,  0.00000000e+00,  0.00000000e+00,\n       -0.00000000e+00, -2.03665884e+03,  0.00000000e+00,  0.00000000e+00,\n        0.00000000e+00,  0.00000000e+00,  0.00000000e+00,  1.04994451e+04,\n       -0.00000000e+00,  0.00000000e+00, -4.54773053e+03,  0.00000000e+00,\n        0.00000000e+00,  1.76435747e+03, -0.00000000e+00,  0.00000000e+00,\n       -0.00000000e+00, -0.00000000e+00,  4.74235244e+03, -0.00000000e+00,\n        0.00000000e+00, -0.00000000e+00,  0.00000000e+00,  0.00000000e+00,\n       -0.00000000e+00,  0.00000000e+00, -0.00000000e+00,  0.00000000e+00,\n        0.00000000e+00, -1.02559073e+04,  0.00000000e+00,  1.25082044e+03,\n        0.00000000e+00, -0.00000000e+00, -0.00000000e+00, -0.00000000e+00,\n       -0.00000000e+00,  0.00000000e+00,  0.00000000e+00, -0.00000000e+00,\n       -0.00000000e+00, -0.00000000e+00,  0.00000000e+00,  2.56580655e+04,\n        0.00000000e+00,  0.00000000e+00, -7.94582419e+02, -0.00000000e+00,\n       -0.00000000e+00, -0.00000000e+00, -0.00000000e+00,  0.00000000e+00,\n       -2.10372689e+04,  8.91021221e+03, -0.00000000e+00, -0.00000000e+00,\n        0.00000000e+00, -0.00000000e+00, -0.00000000e+00, -0.00000000e+00,\n       -6.52537693e+03, -0.00000000e+00, -0.00000000e+00,  9.22170167e+02,\n       -0.00000000e+00, -0.00000000e+00,  0.00000000e+00,  4.83790490e+02,\n       -0.00000000e+00, -0.00000000e+00,  1.61190421e+04, -0.00000000e+00,\n        0.00000000e+00, -0.00000000e+00,  0.00000000e+00, -0.00000000e+00,\n       -0.00000000e+00, -0.00000000e+00, -0.00000000e+00,  1.56861321e+03,\n       -0.00000000e+00, -0.00000000e+00,  0.00000000e+00,  7.61535226e+04,\n       -0.00000000e+00, -0.00000000e+00, -0.00000000e+00, -0.00000000e+00,\n       -0.00000000e+00,  0.00000000e+00, -0.00000000e+00,  0.00000000e+00,\n       -0.00000000e+00,  0.00000000e+00,  0.00000000e+00, -0.00000000e+00,\n       -0.00000000e+00, -0.00000000e+00, -0.00000000e+00,  1.13842504e+04,\n        0.00000000e+00, -0.00000000e+00, -0.00000000e+00,  1.43592180e+04,\n       -0.00000000e+00, -0.00000000e+00, -4.49022689e+03,  0.00000000e+00,\n        0.00000000e+00, -5.92239565e+03,  0.00000000e+00,  0.00000000e+00])"
     },
     "execution_count": 15,
     "metadata": {},
     "output_type": "execute_result"
    }
   ],
   "source": [
    "lassoregcv.coef_"
   ],
   "metadata": {
    "collapsed": false,
    "pycharm": {
     "name": "#%%\n"
    }
   }
  },
  {
   "cell_type": "code",
   "execution_count": 22,
   "outputs": [
    {
     "name": "stdout",
     "output_type": "stream",
     "text": [
      "R-Square Value 0.88059249218806\n",
      "\n",
      "\n",
      "mean_absolute_error : 16670.411609589042\n",
      "\n",
      "\n",
      "mean_squared_error :  774955513.6148887\n",
      "\n",
      "\n",
      "root_mean_squared_error :  27838.022803620388\n"
     ]
    }
   ],
   "source": [
    "from sklearn.ensemble import RandomForestRegressor\n",
    "forest_model = RandomForestRegressor()\n",
    "forest_model.fit(X_train, y_train)\n",
    "y_predicted = forest_model.predict(X_holdout)\n",
    "estadisticas(y_predicted, y_holdout)"
   ],
   "metadata": {
    "collapsed": false,
    "pycharm": {
     "name": "#%%\n"
    }
   }
  },
  {
   "cell_type": "code",
   "execution_count": 26,
   "outputs": [
    {
     "data": {
      "text/plain": "15.241553527715613"
     },
     "execution_count": 26,
     "metadata": {},
     "output_type": "execute_result"
    }
   ],
   "source": [
    "27838.02 / y_holdout.mean() * 100"
   ],
   "metadata": {
    "collapsed": false,
    "pycharm": {
     "name": "#%%\n"
    }
   }
  },
  {
   "cell_type": "code",
   "execution_count": 21,
   "outputs": [],
   "source": [
    "RandomForestRegressor?"
   ],
   "metadata": {
    "collapsed": false,
    "pycharm": {
     "name": "#%%\n"
    }
   }
  },
  {
   "cell_type": "markdown",
   "source": [
    "### Haciendo las predicciones\n",
    "Con el conjunto de datos dados para testeo, se deben hacer las predicciones."
   ],
   "metadata": {
    "collapsed": false,
    "pycharm": {
     "name": "#%% md\n"
    }
   }
  },
  {
   "cell_type": "code",
   "execution_count": 17,
   "outputs": [],
   "source": [
    "data_testing.drop(['SalePrice', 'Id'], axis=1, inplace=True)\n",
    "X_test = pd.get_dummies(data_testing)"
   ],
   "metadata": {
    "collapsed": false,
    "pycharm": {
     "name": "#%%\n"
    }
   }
  },
  {
   "cell_type": "code",
   "execution_count": 18,
   "outputs": [
    {
     "name": "stdout",
     "output_type": "stream",
     "text": [
      "<class 'pandas.core.frame.DataFrame'>\n",
      "RangeIndex: 1459 entries, 0 to 1458\n",
      "Data columns (total 79 columns):\n",
      " #   Column         Non-Null Count  Dtype  \n",
      "---  ------         --------------  -----  \n",
      " 0   MSSubClass     1459 non-null   int64  \n",
      " 1   MSZoning       1459 non-null   object \n",
      " 2   LotFrontage    1459 non-null   float64\n",
      " 3   LotArea        1459 non-null   int64  \n",
      " 4   Street         1459 non-null   object \n",
      " 5   Alley          1459 non-null   object \n",
      " 6   LotShape       1459 non-null   object \n",
      " 7   LandContour    1459 non-null   object \n",
      " 8   Utilities      1459 non-null   object \n",
      " 9   LotConfig      1459 non-null   object \n",
      " 10  LandSlope      1459 non-null   object \n",
      " 11  Neighborhood   1459 non-null   object \n",
      " 12  Condition1     1459 non-null   object \n",
      " 13  Condition2     1459 non-null   object \n",
      " 14  BldgType       1459 non-null   object \n",
      " 15  HouseStyle     1459 non-null   object \n",
      " 16  OverallQual    1459 non-null   int64  \n",
      " 17  OverallCond    1459 non-null   int64  \n",
      " 18  YearBuilt      1459 non-null   int64  \n",
      " 19  YearRemodAdd   1459 non-null   int64  \n",
      " 20  RoofStyle      1459 non-null   object \n",
      " 21  RoofMatl       1459 non-null   object \n",
      " 22  Exterior1st    1459 non-null   object \n",
      " 23  Exterior2nd    1459 non-null   object \n",
      " 24  MasVnrType     1459 non-null   object \n",
      " 25  MasVnrArea     1459 non-null   int64  \n",
      " 26  ExterQual      1459 non-null   object \n",
      " 27  ExterCond      1459 non-null   object \n",
      " 28  Foundation     1459 non-null   object \n",
      " 29  BsmtQual       1459 non-null   object \n",
      " 30  BsmtCond       1459 non-null   object \n",
      " 31  BsmtExposure   1459 non-null   object \n",
      " 32  BsmtFinType1   1459 non-null   object \n",
      " 33  BsmtFinSF1     1459 non-null   float64\n",
      " 34  BsmtFinType2   1459 non-null   object \n",
      " 35  BsmtFinSF2     1459 non-null   float64\n",
      " 36  BsmtUnfSF      1459 non-null   float64\n",
      " 37  TotalBsmtSF    1459 non-null   float64\n",
      " 38  Heating        1459 non-null   object \n",
      " 39  HeatingQC      1459 non-null   object \n",
      " 40  CentralAir     1459 non-null   object \n",
      " 41  Electrical     1459 non-null   object \n",
      " 42  1stFlrSF       1459 non-null   int64  \n",
      " 43  2ndFlrSF       1459 non-null   int64  \n",
      " 44  LowQualFinSF   1459 non-null   int64  \n",
      " 45  GrLivArea      1459 non-null   int64  \n",
      " 46  BsmtFullBath   1459 non-null   float64\n",
      " 47  BsmtHalfBath   1459 non-null   float64\n",
      " 48  FullBath       1459 non-null   int64  \n",
      " 49  HalfBath       1459 non-null   int64  \n",
      " 50  BedroomAbvGr   1459 non-null   int64  \n",
      " 51  KitchenAbvGr   1459 non-null   int64  \n",
      " 52  KitchenQual    1459 non-null   object \n",
      " 53  TotRmsAbvGrd   1459 non-null   int64  \n",
      " 54  Functional     1459 non-null   object \n",
      " 55  Fireplaces     1459 non-null   int64  \n",
      " 56  FireplaceQu    1459 non-null   object \n",
      " 57  GarageType     1459 non-null   object \n",
      " 58  GarageYrBlt    1459 non-null   float64\n",
      " 59  GarageFinish   1459 non-null   object \n",
      " 60  GarageCars     1459 non-null   float64\n",
      " 61  GarageArea     1459 non-null   float64\n",
      " 62  GarageQual     1459 non-null   object \n",
      " 63  GarageCond     1459 non-null   object \n",
      " 64  PavedDrive     1459 non-null   object \n",
      " 65  WoodDeckSF     1459 non-null   int64  \n",
      " 66  OpenPorchSF    1459 non-null   int64  \n",
      " 67  EnclosedPorch  1459 non-null   int64  \n",
      " 68  3SsnPorch      1459 non-null   int64  \n",
      " 69  ScreenPorch    1459 non-null   int64  \n",
      " 70  PoolArea       1459 non-null   int64  \n",
      " 71  PoolQC         1459 non-null   object \n",
      " 72  Fence          1459 non-null   object \n",
      " 73  MiscFeature    1459 non-null   object \n",
      " 74  MiscVal        1459 non-null   int64  \n",
      " 75  MoSold         1459 non-null   int64  \n",
      " 76  YrSold         1459 non-null   int64  \n",
      " 77  SaleType       1459 non-null   object \n",
      " 78  SaleCondition  1459 non-null   object \n",
      "dtypes: float64(10), int64(26), object(43)\n",
      "memory usage: 900.6+ KB\n"
     ]
    }
   ],
   "source": [
    "data_testing.info()"
   ],
   "metadata": {
    "collapsed": false,
    "pycharm": {
     "name": "#%%\n"
    }
   }
  }
 ],
 "metadata": {
  "kernelspec": {
   "display_name": "Python 3",
   "language": "python",
   "name": "python3"
  },
  "language_info": {
   "codemirror_mode": {
    "name": "ipython",
    "version": 2
   },
   "file_extension": ".py",
   "mimetype": "text/x-python",
   "name": "python",
   "nbconvert_exporter": "python",
   "pygments_lexer": "ipython2",
   "version": "2.7.6"
  }
 },
 "nbformat": 4,
 "nbformat_minor": 0
}