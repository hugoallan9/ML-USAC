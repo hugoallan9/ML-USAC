{
 "cells": [
  {
   "cell_type": "code",
   "execution_count": 1,
   "metadata": {
    "collapsed": true
   },
   "outputs": [],
   "source": [
    "#Importación de bibliotecas\n",
    "import pandas as pd\n",
    "import seaborn as sb\n",
    "import numpy as np\n",
    "import matplotlib as mpl\n",
    "from sklearn.linear_model import LinearRegression\n",
    "from sklearn.impute import SimpleImputer"
   ]
  },
  {
   "cell_type": "code",
   "execution_count": 2,
   "metadata": {
    "pycharm": {
     "name": "#%%\n"
    }
   },
   "outputs": [],
   "source": [
    "#Lectura de datos\n",
    "train = pd.read_csv('../data/train.csv')\n",
    "test_data = pd.read_csv('../data/test.csv')"
   ]
  },
  {
   "cell_type": "code",
   "execution_count": 3,
   "metadata": {
    "pycharm": {
     "name": "#%%\n"
    }
   },
   "outputs": [],
   "source": [
    "#Haciendo la unión de las bases de test y training\n",
    "y = train.SalePrice\n",
    "data = pd.concat([train, test_data], keys=[\"train\", \"test\"])"
   ]
  },
  {
   "cell_type": "code",
   "execution_count": 4,
   "metadata": {
    "pycharm": {
     "name": "#%%\n"
    }
   },
   "outputs": [
    {
     "name": "stdout",
     "output_type": "stream",
     "text": [
      "MSSubClass 16\n",
      "OverallQual 10\n",
      "OverallCond 9\n",
      "LowQualFinSF 36\n",
      "FullBath 5\n",
      "HalfBath 3\n",
      "BedroomAbvGr 8\n",
      "KitchenAbvGr 4\n",
      "TotRmsAbvGrd 14\n",
      "Fireplaces 5\n",
      "3SsnPorch 31\n",
      "PoolArea 14\n",
      "MiscVal 38\n",
      "MoSold 12\n",
      "YrSold 5\n",
      "********Object*********\n",
      "MSZoning 5\n",
      "Street 2\n",
      "Alley 2\n",
      "LotShape 4\n",
      "LandContour 4\n",
      "Utilities 2\n",
      "LotConfig 5\n",
      "LandSlope 3\n",
      "Neighborhood 25\n",
      "Condition1 9\n",
      "Condition2 8\n",
      "BldgType 5\n",
      "HouseStyle 8\n",
      "RoofStyle 6\n",
      "RoofMatl 8\n",
      "Exterior1st 15\n",
      "Exterior2nd 16\n",
      "MasVnrType 4\n",
      "ExterQual 4\n",
      "ExterCond 5\n",
      "Foundation 6\n",
      "BsmtQual 4\n",
      "BsmtCond 4\n",
      "BsmtExposure 4\n",
      "BsmtFinType1 6\n",
      "BsmtFinType2 6\n",
      "Heating 6\n",
      "HeatingQC 5\n",
      "CentralAir 2\n",
      "Electrical 5\n",
      "KitchenQual 4\n",
      "Functional 7\n",
      "FireplaceQu 5\n",
      "GarageType 6\n",
      "GarageFinish 3\n",
      "GarageQual 5\n",
      "GarageCond 5\n",
      "PavedDrive 3\n",
      "PoolQC 3\n",
      "Fence 4\n",
      "MiscFeature 4\n",
      "SaleType 9\n",
      "SaleCondition 6\n",
      "********Features con 50 categorías o más*****\n",
      "Id 2919\n",
      "LotArea 1951\n",
      "YearBuilt 118\n",
      "YearRemodAdd 61\n",
      "1stFlrSF 1083\n",
      "2ndFlrSF 635\n",
      "GrLivArea 1292\n",
      "WoodDeckSF 379\n",
      "OpenPorchSF 252\n",
      "EnclosedPorch 183\n",
      "ScreenPorch 121\n",
      "********Object*********\n",
      "En total hay 79 features\n"
     ]
    }
   ],
   "source": [
    "#Separando las variables por tipo\n",
    "continuas = []\n",
    "enteras = []\n",
    "object = []\n",
    "for feature in data.columns:\n",
    "    if str(data[feature].dtype) == \"float64\":\n",
    "        continuas.append(feature)\n",
    "    elif str(data[feature].dtype) == \"int64\":\n",
    "        enteras.append(feature)\n",
    "    elif str(data[feature].dtype) == \"object\":\n",
    "        object.append(feature)\n",
    "\n",
    "continuas = continuas + [\"LowQualFinSF\",\n",
    "                         \"3SsnPorch\",\"PoolArea\",\"MiscVal\",\"YrSold\",\n",
    "                         \"FullBath\",\"HalfBath\",\"BedroomAbvGr\",\n",
    "           \"KitchenAbvGr\",\n",
    "           \"TotRmsAbvGrd\",\n",
    "                         ]\n",
    "\n",
    "nominales = [\"MSSubClass\",\"MoSold\",\n",
    "             \"MSZoning\",\"Street\",\"Alley\",\"LotShape\",\"LandContour\",\n",
    "             \"Utilities\", \"LotConfig\", \"LandSlope\", \"Neighborhood\",\n",
    "             \"Condition1\", \"Condition2\",\"BldgType\", \"HouseStyle\",\n",
    "             \"RoofStyle\", \"RoofMatl\", \"Exterior1st\",\"Exterior2nd\",\n",
    "             \"MasVnrType\",\"Foundation\",\"Heating\", \"Electrical\",\n",
    "             \"Functional\",\"GarageType\",\"PavedDrive\",\"Fence\",\n",
    "             \"MiscFeature\",\"SaleType\",\"SaleCondition\"\n",
    "             ]\n",
    "ordinal = [\"OverallQual\", \"OverallCond\",\n",
    "           \"Fireplaces\",\n",
    "           \"ExterQual\",\n",
    "           \"ExterCond\",\n",
    "           \"BsmtQual\",\n",
    "           \"BsmtCond\",\n",
    "           \"BsmtExposure\",\n",
    "           \"BsmtFinType2\",\n",
    "           \"HeatingQC\",\n",
    "           \"KitchenQual\",\n",
    "           \"FireplaceQu\",\n",
    "           \"GarageFinish\",\n",
    "           \"GarageQual\",\n",
    "           \"GarageCond\",\n",
    "           \"PoolQC\"]\n",
    "\n",
    "dicotomicas = [\"CentralAir\",]\n",
    "\n",
    "for x in  enteras:\n",
    "    if data[x].nunique() < 50:\n",
    "        print(x, data[x].nunique() )\n",
    "print(\"********Object*********\")\n",
    "for x in  object:\n",
    "    if data[x].nunique() < 50:\n",
    "        print(x, data[x].nunique() )\n",
    "print(\"********Features con 50 categorías o más*****\")\n",
    "for x in  enteras:\n",
    "    if data[x].nunique() >= 50:\n",
    "        print(x, data[x].nunique() )\n",
    "        if x not in continuas:\n",
    "            continuas.append(x)\n",
    "            data[x] = pd.to_numeric(data[x])\n",
    "continuas.remove(\"Id\")\n",
    "print(\"********Object*********\")\n",
    "for x in  object:\n",
    "    if data[x].nunique() >= 50:\n",
    "        print(x, data[x].nunique() )\n",
    "        if x not in continuas:\n",
    "            continuas.append(x)\n",
    "\n",
    "print(\"En total hay\", len(continuas + dicotomicas + nominales + ordinal) , \"features\")"
   ]
  },
  {
   "cell_type": "code",
   "execution_count": 5,
   "metadata": {
    "pycharm": {
     "name": "#%%\n"
    }
   },
   "outputs": [],
   "source": [
    "#Recodificación de las categorías\n",
    "data.FireplaceQu = data.FireplaceQu.fillna(\"NF\")\n",
    "data.Fence =data.Fence.fillna(\"NFe\")\n",
    "data.Alley = data.Alley.fillna(\"NoAlley\")\n",
    "data.MiscFeature = data.MiscFeature.fillna(\"NoMiscFeature\")\n",
    "data.PoolQC = data.PoolQC.fillna(\"NoP\")\n",
    "data.MasVnrType = data.MasVnrType.fillna(\"NoMasonry\")\n",
    "data.MasVnrArea =data.MasVnrArea.fillna(0)\n",
    "data.BsmtQual = data.BsmtQual.fillna(\"NB\") #Cambiar a nominal\n",
    "data.BsmtCond = data.BsmtCond.fillna(\"NB\") #Cambiar a nominal\n",
    "data.BsmtExposure = data.BsmtExposure.fillna(\"NB\") #Cambiar a nominales\n",
    "data.BsmtFinType1 = data.BsmtFinType1.fillna(\"NB\") #Cambiar a nominales\n",
    "data.BsmtFinType2 = data.BsmtFinType2.fillna(\"NB\") #Cambiar a nominal\n",
    "#Con electrical el dato si está perdido, se sugiere perder esos registros\n",
    "data.GarageType = data.GarageType.fillna(\"NG\")\n",
    "\n"
   ]
  },
  {
   "cell_type": "code",
   "execution_count": 6,
   "metadata": {
    "pycharm": {
     "name": "#%%\n"
    }
   },
   "outputs": [
    {
     "data": {
      "text/plain": [
       "[('Id', 0.0),\n",
       " ('MSSubClass', 0.0),\n",
       " ('LotArea', 0.0),\n",
       " ('Street', 0.0),\n",
       " ('Alley', 0.0),\n",
       " ('LotShape', 0.0),\n",
       " ('LandContour', 0.0),\n",
       " ('LotConfig', 0.0),\n",
       " ('LandSlope', 0.0),\n",
       " ('Neighborhood', 0.0),\n",
       " ('Condition1', 0.0),\n",
       " ('Condition2', 0.0),\n",
       " ('BldgType', 0.0),\n",
       " ('HouseStyle', 0.0),\n",
       " ('OverallQual', 0.0),\n",
       " ('OverallCond', 0.0),\n",
       " ('YearBuilt', 0.0),\n",
       " ('YearRemodAdd', 0.0),\n",
       " ('RoofStyle', 0.0),\n",
       " ('RoofMatl', 0.0),\n",
       " ('MasVnrType', 0.0),\n",
       " ('MasVnrArea', 0.0),\n",
       " ('ExterQual', 0.0),\n",
       " ('ExterCond', 0.0),\n",
       " ('Foundation', 0.0),\n",
       " ('BsmtQual', 0.0),\n",
       " ('BsmtCond', 0.0),\n",
       " ('BsmtExposure', 0.0),\n",
       " ('BsmtFinType1', 0.0),\n",
       " ('BsmtFinType2', 0.0),\n",
       " ('Heating', 0.0),\n",
       " ('HeatingQC', 0.0),\n",
       " ('CentralAir', 0.0),\n",
       " ('1stFlrSF', 0.0),\n",
       " ('2ndFlrSF', 0.0),\n",
       " ('LowQualFinSF', 0.0),\n",
       " ('GrLivArea', 0.0),\n",
       " ('FullBath', 0.0),\n",
       " ('HalfBath', 0.0),\n",
       " ('BedroomAbvGr', 0.0),\n",
       " ('KitchenAbvGr', 0.0),\n",
       " ('TotRmsAbvGrd', 0.0),\n",
       " ('Fireplaces', 0.0),\n",
       " ('FireplaceQu', 0.0),\n",
       " ('GarageType', 0.0),\n",
       " ('PavedDrive', 0.0),\n",
       " ('WoodDeckSF', 0.0),\n",
       " ('OpenPorchSF', 0.0),\n",
       " ('EnclosedPorch', 0.0),\n",
       " ('3SsnPorch', 0.0),\n",
       " ('ScreenPorch', 0.0),\n",
       " ('PoolArea', 0.0),\n",
       " ('PoolQC', 0.0),\n",
       " ('Fence', 0.0),\n",
       " ('MiscFeature', 0.0),\n",
       " ('MiscVal', 0.0),\n",
       " ('MoSold', 0.0),\n",
       " ('YrSold', 0.0),\n",
       " ('SaleCondition', 0.0),\n",
       " ('Exterior1st', 0.0342583076396026),\n",
       " ('Exterior2nd', 0.0342583076396026),\n",
       " ('BsmtFinSF1', 0.0342583076396026),\n",
       " ('BsmtFinSF2', 0.0342583076396026),\n",
       " ('BsmtUnfSF', 0.0342583076396026),\n",
       " ('TotalBsmtSF', 0.0342583076396026),\n",
       " ('Electrical', 0.0342583076396026),\n",
       " ('KitchenQual', 0.0342583076396026),\n",
       " ('GarageCars', 0.0342583076396026),\n",
       " ('GarageArea', 0.0342583076396026),\n",
       " ('SaleType', 0.0342583076396026),\n",
       " ('Utilities', 0.0685166152792052),\n",
       " ('BsmtFullBath', 0.0685166152792052),\n",
       " ('BsmtHalfBath', 0.0685166152792052),\n",
       " ('Functional', 0.0685166152792052),\n",
       " ('MSZoning', 0.1370332305584104),\n",
       " ('GarageYrBlt', 5.4470709146968135),\n",
       " ('GarageFinish', 5.4470709146968135),\n",
       " ('GarageQual', 5.4470709146968135),\n",
       " ('GarageCond', 5.4470709146968135),\n",
       " ('LotFrontage', 16.649537512846866),\n",
       " ('SalePrice', 49.9828708461802)]"
      ]
     },
     "execution_count": 6,
     "metadata": {},
     "output_type": "execute_result"
    }
   ],
   "source": [
    "#Cálculo de porcentaje de perdidos\n",
    "porcentajes = {}\n",
    "for column in list(data.columns):\n",
    "    porcentajes[column] = len(data[column][data[column].isna()==True]) / len(data[column]) *100\n",
    "sorted(porcentajes.items(), key=lambda x:x[1])"
   ]
  },
  {
   "cell_type": "code",
   "execution_count": 7,
   "metadata": {
    "pycharm": {
     "name": "#%%\n"
    }
   },
   "outputs": [
    {
     "name": "stdout",
     "output_type": "stream",
     "text": [
      "MSZoning 0.1370332305584104\n",
      "Utilities 0.0685166152792052\n",
      "Exterior1st 0.0342583076396026\n",
      "Exterior2nd 0.0342583076396026\n",
      "BsmtFinSF1 0.0342583076396026\n",
      "BsmtFinSF2 0.0342583076396026\n",
      "BsmtUnfSF 0.0342583076396026\n",
      "TotalBsmtSF 0.0342583076396026\n",
      "Electrical 0.0342583076396026\n",
      "BsmtFullBath 0.0685166152792052\n",
      "BsmtHalfBath 0.0685166152792052\n",
      "KitchenQual 0.0342583076396026\n",
      "Functional 0.0685166152792052\n",
      "GarageYrBlt 5.4470709146968135\n",
      "GarageFinish 5.4470709146968135\n",
      "GarageCars 0.0342583076396026\n",
      "GarageArea 0.0342583076396026\n",
      "GarageQual 5.4470709146968135\n",
      "GarageCond 5.4470709146968135\n",
      "SaleType 0.0342583076396026\n"
     ]
    }
   ],
   "source": [
    "#Calculando los features que requieren imputacion\n",
    "features_imputacion = ['LotFrontage']\n",
    "for x in porcentajes:\n",
    "    if porcentajes[x] <10 and porcentajes[x] >0:\n",
    "        features_imputacion.append(x)\n",
    "        print(x, porcentajes[x])"
   ]
  },
  {
   "cell_type": "code",
   "execution_count": 8,
   "metadata": {
    "pycharm": {
     "name": "#%%\n"
    }
   },
   "outputs": [
    {
     "name": "stdout",
     "output_type": "stream",
     "text": [
      "Se imputó con éxito la variable LotFrontage\n",
      "Se imputó con éxito la variable BsmtFinSF1\n",
      "Se imputó con éxito la variable BsmtFinSF2\n",
      "Se imputó con éxito la variable BsmtUnfSF\n",
      "Se imputó con éxito la variable TotalBsmtSF\n",
      "Se imputó con éxito la variable BsmtFullBath\n",
      "Se imputó con éxito la variable BsmtHalfBath\n",
      "Se imputó con éxito la variable GarageYrBlt\n",
      "Se imputó con éxito la variable GarageCars\n",
      "Se imputó con éxito la variable GarageArea\n"
     ]
    }
   ],
   "source": [
    "# Imputación\n",
    "for x in features_imputacion:\n",
    "    try:\n",
    "        imputer = SimpleImputer(missing_values= np.nan , strategy=\"mean\")\n",
    "        imputer.fit(data[[x]])\n",
    "        data[x] = imputer.transform(data[[x]])\n",
    "    except:\n",
    "        imp = SimpleImputer(missing_values=np.nan, strategy='most_frequent')\n",
    "        imp.fit(data[[x]])\n",
    "        data[x] = imp.transform(data[[x]])\n",
    "    else:\n",
    "        print(\"Se imputó con éxito la variable\", x)"
   ]
  },
  {
   "cell_type": "code",
   "execution_count": 9,
   "metadata": {
    "pycharm": {
     "name": "#%%\n"
    }
   },
   "outputs": [
    {
     "data": {
      "text/plain": [
       "[('Id', 0.0),\n",
       " ('MSSubClass', 0.0),\n",
       " ('MSZoning', 0.0),\n",
       " ('LotFrontage', 0.0),\n",
       " ('LotArea', 0.0),\n",
       " ('Street', 0.0),\n",
       " ('Alley', 0.0),\n",
       " ('LotShape', 0.0),\n",
       " ('LandContour', 0.0),\n",
       " ('Utilities', 0.0),\n",
       " ('LotConfig', 0.0),\n",
       " ('LandSlope', 0.0),\n",
       " ('Neighborhood', 0.0),\n",
       " ('Condition1', 0.0),\n",
       " ('Condition2', 0.0),\n",
       " ('BldgType', 0.0),\n",
       " ('HouseStyle', 0.0),\n",
       " ('OverallQual', 0.0),\n",
       " ('OverallCond', 0.0),\n",
       " ('YearBuilt', 0.0),\n",
       " ('YearRemodAdd', 0.0),\n",
       " ('RoofStyle', 0.0),\n",
       " ('RoofMatl', 0.0),\n",
       " ('Exterior1st', 0.0),\n",
       " ('Exterior2nd', 0.0),\n",
       " ('MasVnrType', 0.0),\n",
       " ('MasVnrArea', 0.0),\n",
       " ('ExterQual', 0.0),\n",
       " ('ExterCond', 0.0),\n",
       " ('Foundation', 0.0),\n",
       " ('BsmtQual', 0.0),\n",
       " ('BsmtCond', 0.0),\n",
       " ('BsmtExposure', 0.0),\n",
       " ('BsmtFinType1', 0.0),\n",
       " ('BsmtFinSF1', 0.0),\n",
       " ('BsmtFinType2', 0.0),\n",
       " ('BsmtFinSF2', 0.0),\n",
       " ('BsmtUnfSF', 0.0),\n",
       " ('TotalBsmtSF', 0.0),\n",
       " ('Heating', 0.0),\n",
       " ('HeatingQC', 0.0),\n",
       " ('CentralAir', 0.0),\n",
       " ('Electrical', 0.0),\n",
       " ('1stFlrSF', 0.0),\n",
       " ('2ndFlrSF', 0.0),\n",
       " ('LowQualFinSF', 0.0),\n",
       " ('GrLivArea', 0.0),\n",
       " ('BsmtFullBath', 0.0),\n",
       " ('BsmtHalfBath', 0.0),\n",
       " ('FullBath', 0.0),\n",
       " ('HalfBath', 0.0),\n",
       " ('BedroomAbvGr', 0.0),\n",
       " ('KitchenAbvGr', 0.0),\n",
       " ('KitchenQual', 0.0),\n",
       " ('TotRmsAbvGrd', 0.0),\n",
       " ('Functional', 0.0),\n",
       " ('Fireplaces', 0.0),\n",
       " ('FireplaceQu', 0.0),\n",
       " ('GarageType', 0.0),\n",
       " ('GarageYrBlt', 0.0),\n",
       " ('GarageFinish', 0.0),\n",
       " ('GarageCars', 0.0),\n",
       " ('GarageArea', 0.0),\n",
       " ('GarageQual', 0.0),\n",
       " ('GarageCond', 0.0),\n",
       " ('PavedDrive', 0.0),\n",
       " ('WoodDeckSF', 0.0),\n",
       " ('OpenPorchSF', 0.0),\n",
       " ('EnclosedPorch', 0.0),\n",
       " ('3SsnPorch', 0.0),\n",
       " ('ScreenPorch', 0.0),\n",
       " ('PoolArea', 0.0),\n",
       " ('PoolQC', 0.0),\n",
       " ('Fence', 0.0),\n",
       " ('MiscFeature', 0.0),\n",
       " ('MiscVal', 0.0),\n",
       " ('MoSold', 0.0),\n",
       " ('YrSold', 0.0),\n",
       " ('SaleType', 0.0),\n",
       " ('SaleCondition', 0.0),\n",
       " ('SalePrice', 49.9828708461802)]"
      ]
     },
     "execution_count": 9,
     "metadata": {},
     "output_type": "execute_result"
    }
   ],
   "source": [
    "#Revisando nuevamente los porcentajes\n",
    "porcentajes = {}\n",
    "for column in list(data.columns):\n",
    "    porcentajes[column] = len(data[column][data[column].isna()==True]) / len(data[column]) *100\n",
    "sorted(porcentajes.items(), key=lambda x:x[1])"
   ]
  },
  {
   "cell_type": "code",
   "execution_count": 10,
   "metadata": {
    "pycharm": {
     "name": "#%%\n"
    }
   },
   "outputs": [],
   "source": [
    "#Selección final de los features\n",
    "final_features = [\"BedroomAbvGr\", \"YrSold\", \"MoSold\", \"LotArea\"]"
   ]
  },
  {
   "cell_type": "code",
   "execution_count": 11,
   "metadata": {
    "pycharm": {
     "name": "#%%\n"
    }
   },
   "outputs": [],
   "source": [
    "#Datos de entrenamiento\n",
    "X_train = data.loc[\"train\"]\n",
    "y = X_train.SalePrice\n",
    "X_train = X_train[final_features]"
   ]
  },
  {
   "cell_type": "code",
   "execution_count": 12,
   "metadata": {
    "pycharm": {
     "name": "#%%\n"
    }
   },
   "outputs": [],
   "source": [
    "X_train[\"LotArea\"] = pd.to_numeric(X_train[\"LotArea\"], downcast='float')\n"
   ]
  },
  {
   "cell_type": "code",
   "execution_count": 15,
   "metadata": {
    "pycharm": {
     "name": "#%%\n"
    }
   },
   "outputs": [
    {
     "data": {
      "text/plain": [
       "LinearRegression()"
      ]
     },
     "execution_count": 15,
     "metadata": {},
     "output_type": "execute_result"
    }
   ],
   "source": [
    "reg = LinearRegression()\n",
    "reg.fit(X_train,y)\n",
    "\n"
   ]
  }
 ],
 "metadata": {
  "kernelspec": {
   "display_name": "Python 3 (ipykernel)",
   "language": "python",
   "name": "python3"
  },
  "language_info": {
   "codemirror_mode": {
    "name": "ipython",
    "version": 3
   },
   "file_extension": ".py",
   "mimetype": "text/x-python",
   "name": "python",
   "nbconvert_exporter": "python",
   "pygments_lexer": "ipython3",
   "version": "3.10.2"
  }
 },
 "nbformat": 4,
 "nbformat_minor": 1
}
